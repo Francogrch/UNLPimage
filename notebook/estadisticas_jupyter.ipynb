{
 "cells": [
  {
   "attachments": {},
   "cell_type": "markdown",
   "metadata": {},
   "source": [
    "# Analisis de datos - Imagenes Clasificadas"
   ]
  },
  {
   "attachments": {},
   "cell_type": "markdown",
   "metadata": {},
   "source": [
    "## Inicializacion de librerias y DataFrame"
   ]
  },
  {
   "attachments": {},
   "cell_type": "markdown",
   "metadata": {},
   "source": [
    "- Primero importamos las librerias que vamos a utilizar. \n",
    "- Luego creamos variables con direcciones, del programa, del csv y del json: __(path_main,path_tagger,path_profiles)__"
   ]
  },
  {
   "cell_type": "code",
   "execution_count": 57,
   "metadata": {},
   "outputs": [],
   "source": [
    "import pandas as pd\n",
    "import matplotlib.pyplot as plt\n",
    "import os\n",
    "COLORS = [\n",
    "    '#BFEFFF',  # Lightblue\n",
    "    '#BDF5BD',  # Lightgreen\n",
    "    '#FFCACA',  # Red\n",
    "    '#FFD8A0',  # Orange\n",
    "    '#DAB8D9',  # Purple\n",
    "    '#FFFFC0',  # Yellow\n",
    "    '#C2FFFF',  # Cyan\n",
    "    '#E0E0E0',  # Black\n",
    "    '#F0E68C',  # Khaki\n",
    "    '#ADD8E6',  # Lightblue\n",
    "    '#98FB98',  # Palegreen\n",
    "    '#FFA07A',  # Lightsalmon\n",
    "    '#E6E6FA',  # Lavender\n",
    "    '#FFEC8B',  # Lightgoldenrodyellow\n",
    "]\n",
    "path_main = os.path.join(os.path.abspath('')[:-9])\n",
    "path_tagger = os.path.join(path_main, 'config','data_files','tagger.csv')\n",
    "path_profiles = os.path.join(path_main,'config','data_files','profiles.json')\n"
   ]
  },
  {
   "attachments": {},
   "cell_type": "markdown",
   "metadata": {},
   "source": [
    "- Creamos el dataFrame con toda la inforamcion del csv del tagger"
   ]
  },
  {
   "cell_type": "code",
   "execution_count": 58,
   "metadata": {},
   "outputs": [
    {
     "data": {
      "text/html": [
       "<div>\n",
       "<style scoped>\n",
       "    .dataframe tbody tr th:only-of-type {\n",
       "        vertical-align: middle;\n",
       "    }\n",
       "\n",
       "    .dataframe tbody tr th {\n",
       "        vertical-align: top;\n",
       "    }\n",
       "\n",
       "    .dataframe thead th {\n",
       "        text-align: right;\n",
       "    }\n",
       "</style>\n",
       "<table border=\"1\" class=\"dataframe\">\n",
       "  <thead>\n",
       "    <tr style=\"text-align: right;\">\n",
       "      <th></th>\n",
       "      <th>Relative path</th>\n",
       "      <th>Description</th>\n",
       "      <th>Resolution</th>\n",
       "      <th>Size</th>\n",
       "      <th>Type</th>\n",
       "      <th>Tags</th>\n",
       "      <th>Profile</th>\n",
       "      <th>Last_update</th>\n",
       "    </tr>\n",
       "  </thead>\n",
       "  <tbody>\n",
       "    <tr>\n",
       "      <th>0</th>\n",
       "      <td>astronauta.jpeg</td>\n",
       "      <td>vertical</td>\n",
       "      <td>(720, 1280)</td>\n",
       "      <td>78197</td>\n",
       "      <td>image/jpeg</td>\n",
       "      <td>['astronauta', 'cielo', 'pychodelic']</td>\n",
       "      <td>s0sh1</td>\n",
       "      <td>1583515298</td>\n",
       "    </tr>\n",
       "    <tr>\n",
       "      <th>1</th>\n",
       "      <td>Laprovitola.raw</td>\n",
       "      <td>vertical</td>\n",
       "      <td>(935, 1681)</td>\n",
       "      <td>239046</td>\n",
       "      <td>image/RAW</td>\n",
       "      <td>['space ', 'jam', 'basket']</td>\n",
       "      <td>Galo</td>\n",
       "      <td>1269514188</td>\n",
       "    </tr>\n",
       "    <tr>\n",
       "      <th>2</th>\n",
       "      <td>Cielo Vertical.svg</td>\n",
       "      <td>vertical</td>\n",
       "      <td>(1600, 2560)</td>\n",
       "      <td>381980</td>\n",
       "      <td>image/svg+xml</td>\n",
       "      <td>['cielo']</td>\n",
       "      <td>s0sh1</td>\n",
       "      <td>1586515202</td>\n",
       "    </tr>\n",
       "    <tr>\n",
       "      <th>3</th>\n",
       "      <td>gato cubanito.svg</td>\n",
       "      <td>NaN</td>\n",
       "      <td>(1024, 768)</td>\n",
       "      <td>76275</td>\n",
       "      <td>image/svg+xml</td>\n",
       "      <td>['gatito']</td>\n",
       "      <td>s0sh1</td>\n",
       "      <td>1586515229</td>\n",
       "    </tr>\n",
       "    <tr>\n",
       "      <th>4</th>\n",
       "      <td>gatito sorprendido.bmp</td>\n",
       "      <td>NaN</td>\n",
       "      <td>(1024, 768)</td>\n",
       "      <td>90745</td>\n",
       "      <td>image/bmp</td>\n",
       "      <td>['gatito', 'sorprendido', 'juguete']</td>\n",
       "      <td>s0sh1</td>\n",
       "      <td>1586515249</td>\n",
       "    </tr>\n",
       "    <tr>\n",
       "      <th>5</th>\n",
       "      <td>gatito sacando la lengua.png</td>\n",
       "      <td>NaN</td>\n",
       "      <td>(1024, 768)</td>\n",
       "      <td>96949</td>\n",
       "      <td>image/png</td>\n",
       "      <td>['gatito', 'lengua', 'enojado']</td>\n",
       "      <td>s0sh1</td>\n",
       "      <td>1586515243</td>\n",
       "    </tr>\n",
       "    <tr>\n",
       "      <th>6</th>\n",
       "      <td>snorlax.png</td>\n",
       "      <td>pokemons</td>\n",
       "      <td>(1920, 1080)</td>\n",
       "      <td>2157124</td>\n",
       "      <td>image/png</td>\n",
       "      <td>['pokemon', 'snorlax', 'bulbasour', 'game']</td>\n",
       "      <td>s0sh1</td>\n",
       "      <td>1583515324</td>\n",
       "    </tr>\n",
       "    <tr>\n",
       "      <th>7</th>\n",
       "      <td>bulba.jpg</td>\n",
       "      <td>green</td>\n",
       "      <td>(1600, 900)</td>\n",
       "      <td>69440</td>\n",
       "      <td>image/jpeg</td>\n",
       "      <td>['bulbasaur', 'poke', 'game']</td>\n",
       "      <td>s0sh1</td>\n",
       "      <td>1583515329</td>\n",
       "    </tr>\n",
       "    <tr>\n",
       "      <th>8</th>\n",
       "      <td>psycho girl.jpeg</td>\n",
       "      <td>NaN</td>\n",
       "      <td>(1920, 1080)</td>\n",
       "      <td>262331</td>\n",
       "      <td>image/jpeg</td>\n",
       "      <td>['pychodelic', 'girl']</td>\n",
       "      <td>s0sh1</td>\n",
       "      <td>1583515294</td>\n",
       "    </tr>\n",
       "    <tr>\n",
       "      <th>9</th>\n",
       "      <td>Skyrim Mountain.jpg</td>\n",
       "      <td>NaN</td>\n",
       "      <td>(1920, 1080)</td>\n",
       "      <td>310191</td>\n",
       "      <td>image/jpeg</td>\n",
       "      <td>['skyrim', 'game']</td>\n",
       "      <td>s0sh1</td>\n",
       "      <td>1583515311</td>\n",
       "    </tr>\n",
       "    <tr>\n",
       "      <th>10</th>\n",
       "      <td>skyrim mamuts.png</td>\n",
       "      <td>NaN</td>\n",
       "      <td>(1920, 1200)</td>\n",
       "      <td>298761</td>\n",
       "      <td>image/png</td>\n",
       "      <td>['skyrim', 'game']</td>\n",
       "      <td>s0sh1</td>\n",
       "      <td>1583515316</td>\n",
       "    </tr>\n",
       "    <tr>\n",
       "      <th>11</th>\n",
       "      <td>error.png</td>\n",
       "      <td>NaN</td>\n",
       "      <td>(798, 799)</td>\n",
       "      <td>390389</td>\n",
       "      <td>image/png</td>\n",
       "      <td>['error', 'simpsons']</td>\n",
       "      <td>Galo</td>\n",
       "      <td>1696515633</td>\n",
       "    </tr>\n",
       "  </tbody>\n",
       "</table>\n",
       "</div>"
      ],
      "text/plain": [
       "                   Relative path Description    Resolution     Size   \n",
       "0                astronauta.jpeg    vertical   (720, 1280)    78197  \\\n",
       "1                Laprovitola.raw    vertical   (935, 1681)   239046   \n",
       "2             Cielo Vertical.svg    vertical  (1600, 2560)   381980   \n",
       "3              gato cubanito.svg         NaN   (1024, 768)    76275   \n",
       "4         gatito sorprendido.bmp         NaN   (1024, 768)    90745   \n",
       "5   gatito sacando la lengua.png         NaN   (1024, 768)    96949   \n",
       "6                    snorlax.png    pokemons  (1920, 1080)  2157124   \n",
       "7                      bulba.jpg       green   (1600, 900)    69440   \n",
       "8               psycho girl.jpeg         NaN  (1920, 1080)   262331   \n",
       "9            Skyrim Mountain.jpg         NaN  (1920, 1080)   310191   \n",
       "10             skyrim mamuts.png         NaN  (1920, 1200)   298761   \n",
       "11                     error.png         NaN    (798, 799)   390389   \n",
       "\n",
       "             Type                                         Tags Profile   \n",
       "0      image/jpeg        ['astronauta', 'cielo', 'pychodelic']   s0sh1  \\\n",
       "1       image/RAW                  ['space ', 'jam', 'basket']    Galo   \n",
       "2   image/svg+xml                                    ['cielo']   s0sh1   \n",
       "3   image/svg+xml                                   ['gatito']   s0sh1   \n",
       "4       image/bmp         ['gatito', 'sorprendido', 'juguete']   s0sh1   \n",
       "5       image/png              ['gatito', 'lengua', 'enojado']   s0sh1   \n",
       "6       image/png  ['pokemon', 'snorlax', 'bulbasour', 'game']   s0sh1   \n",
       "7      image/jpeg                ['bulbasaur', 'poke', 'game']   s0sh1   \n",
       "8      image/jpeg                       ['pychodelic', 'girl']   s0sh1   \n",
       "9      image/jpeg                           ['skyrim', 'game']   s0sh1   \n",
       "10      image/png                           ['skyrim', 'game']   s0sh1   \n",
       "11      image/png                        ['error', 'simpsons']    Galo   \n",
       "\n",
       "    Last_update  \n",
       "0    1583515298  \n",
       "1    1269514188  \n",
       "2    1586515202  \n",
       "3    1586515229  \n",
       "4    1586515249  \n",
       "5    1586515243  \n",
       "6    1583515324  \n",
       "7    1583515329  \n",
       "8    1583515294  \n",
       "9    1583515311  \n",
       "10   1583515316  \n",
       "11   1696515633  "
      ]
     },
     "execution_count": 58,
     "metadata": {},
     "output_type": "execute_result"
    }
   ],
   "source": [
    "dF = pd.read_csv(path_tagger) \n",
    "dF"
   ]
  },
  {
   "attachments": {},
   "cell_type": "markdown",
   "metadata": {},
   "source": [
    "## Grafico de torta - Tipos de imagenes"
   ]
  },
  {
   "attachments": {},
   "cell_type": "markdown",
   "metadata": {},
   "source": [
    "- Creamos un DataFrame solamente con la columa llamada 'Type'.\n",
    "- Luego eliminamos la fila index, ya que no nos sirve.\n",
    "- Agrupamos por tipo, contando la veces que se repite, y utilizamos reset_index para que vuelva a ser un DataFrame.\n",
    "- Por ultimo, retiramos la palabra 'image/', de cada fila,  ya que no nos sirve"
   ]
  },
  {
   "cell_type": "code",
   "execution_count": 59,
   "metadata": {},
   "outputs": [
    {
     "data": {
      "text/html": [
       "<div>\n",
       "<style scoped>\n",
       "    .dataframe tbody tr th:only-of-type {\n",
       "        vertical-align: middle;\n",
       "    }\n",
       "\n",
       "    .dataframe tbody tr th {\n",
       "        vertical-align: top;\n",
       "    }\n",
       "\n",
       "    .dataframe thead th {\n",
       "        text-align: right;\n",
       "    }\n",
       "</style>\n",
       "<table border=\"1\" class=\"dataframe\">\n",
       "  <thead>\n",
       "    <tr style=\"text-align: right;\">\n",
       "      <th></th>\n",
       "      <th>Type</th>\n",
       "      <th>count</th>\n",
       "    </tr>\n",
       "  </thead>\n",
       "  <tbody>\n",
       "    <tr>\n",
       "      <th>0</th>\n",
       "      <td>RAW</td>\n",
       "      <td>1</td>\n",
       "    </tr>\n",
       "    <tr>\n",
       "      <th>1</th>\n",
       "      <td>bmp</td>\n",
       "      <td>1</td>\n",
       "    </tr>\n",
       "    <tr>\n",
       "      <th>2</th>\n",
       "      <td>jpeg</td>\n",
       "      <td>4</td>\n",
       "    </tr>\n",
       "    <tr>\n",
       "      <th>3</th>\n",
       "      <td>png</td>\n",
       "      <td>4</td>\n",
       "    </tr>\n",
       "    <tr>\n",
       "      <th>4</th>\n",
       "      <td>svg+xml</td>\n",
       "      <td>2</td>\n",
       "    </tr>\n",
       "  </tbody>\n",
       "</table>\n",
       "</div>"
      ],
      "text/plain": [
       "      Type  count\n",
       "0      RAW      1\n",
       "1      bmp      1\n",
       "2     jpeg      4\n",
       "3      png      4\n",
       "4  svg+xml      2"
      ]
     },
     "execution_count": 59,
     "metadata": {},
     "output_type": "execute_result"
    }
   ],
   "source": [
    "types = dF['Type'].reset_index()\n",
    "types = types.drop('index',axis=1)\n",
    "types = types.groupby(['Type']).value_counts().reset_index()\n",
    "types['Type'] = types['Type'].str.slice(6)\n",
    "types"
   ]
  },
  {
   "attachments": {},
   "cell_type": "markdown",
   "metadata": {},
   "source": [
    "- Graficamos con la libreria matplotlib:\n",
    "        Un grafico de torta, agregando sombras, porcentanjes y especificando la etiqueta de cada uno de los tipos."
   ]
  },
  {
   "cell_type": "code",
   "execution_count": 60,
   "metadata": {},
   "outputs": [
    {
     "data": {
      "image/png": "[encoded data removed]",
      "text/plain": [
       "<Figure size 640x480 with 1 Axes>"
      ]
     },
     "metadata": {},
     "output_type": "display_data"
    }
   ],
   "source": [
    "plt.pie(types['count'], labels=types['Type'], autopct='%1.1f%%', shadow=True, colors =COLORS)\n",
    "plt.title(\"Tipos de datos\")\n",
    "plt.show()"
   ]
  },
  {
   "attachments": {},
   "cell_type": "markdown",
   "metadata": {},
   "source": [
    "## Alto y ancho maximos de las imagenes etiquetadas"
   ]
  },
  {
   "attachments": {},
   "cell_type": "markdown",
   "metadata": {},
   "source": [
    "Agregamos al DataFrame dos columnas:\n",
    "- Alto: tipo de dato entero.\n",
    "- Ancho: tipo de dato entero.\n",
    "  \n",
    "Esto nos va a servir para poder hacer operaciones con estos numeros"
   ]
  },
  {
   "cell_type": "code",
   "execution_count": 61,
   "metadata": {},
   "outputs": [
    {
     "data": {
      "text/html": [
       "<div>\n",
       "<style scoped>\n",
       "    .dataframe tbody tr th:only-of-type {\n",
       "        vertical-align: middle;\n",
       "    }\n",
       "\n",
       "    .dataframe tbody tr th {\n",
       "        vertical-align: top;\n",
       "    }\n",
       "\n",
       "    .dataframe thead th {\n",
       "        text-align: right;\n",
       "    }\n",
       "</style>\n",
       "<table border=\"1\" class=\"dataframe\">\n",
       "  <thead>\n",
       "    <tr style=\"text-align: right;\">\n",
       "      <th></th>\n",
       "      <th>Relative path</th>\n",
       "      <th>Description</th>\n",
       "      <th>Resolution</th>\n",
       "      <th>Size</th>\n",
       "      <th>Type</th>\n",
       "      <th>Tags</th>\n",
       "      <th>Profile</th>\n",
       "      <th>Last_update</th>\n",
       "      <th>Height</th>\n",
       "      <th>Width</th>\n",
       "    </tr>\n",
       "  </thead>\n",
       "  <tbody>\n",
       "    <tr>\n",
       "      <th>0</th>\n",
       "      <td>astronauta.jpeg</td>\n",
       "      <td>vertical</td>\n",
       "      <td>(720, 1280)</td>\n",
       "      <td>78197</td>\n",
       "      <td>image/jpeg</td>\n",
       "      <td>['astronauta', 'cielo', 'pychodelic']</td>\n",
       "      <td>s0sh1</td>\n",
       "      <td>1583515298</td>\n",
       "      <td>720</td>\n",
       "      <td>1280</td>\n",
       "    </tr>\n",
       "    <tr>\n",
       "      <th>1</th>\n",
       "      <td>Laprovitola.raw</td>\n",
       "      <td>vertical</td>\n",
       "      <td>(935, 1681)</td>\n",
       "      <td>239046</td>\n",
       "      <td>image/RAW</td>\n",
       "      <td>['space ', 'jam', 'basket']</td>\n",
       "      <td>Galo</td>\n",
       "      <td>1269514188</td>\n",
       "      <td>935</td>\n",
       "      <td>1681</td>\n",
       "    </tr>\n",
       "    <tr>\n",
       "      <th>2</th>\n",
       "      <td>Cielo Vertical.svg</td>\n",
       "      <td>vertical</td>\n",
       "      <td>(1600, 2560)</td>\n",
       "      <td>381980</td>\n",
       "      <td>image/svg+xml</td>\n",
       "      <td>['cielo']</td>\n",
       "      <td>s0sh1</td>\n",
       "      <td>1586515202</td>\n",
       "      <td>1600</td>\n",
       "      <td>2560</td>\n",
       "    </tr>\n",
       "    <tr>\n",
       "      <th>3</th>\n",
       "      <td>gato cubanito.svg</td>\n",
       "      <td>NaN</td>\n",
       "      <td>(1024, 768)</td>\n",
       "      <td>76275</td>\n",
       "      <td>image/svg+xml</td>\n",
       "      <td>['gatito']</td>\n",
       "      <td>s0sh1</td>\n",
       "      <td>1586515229</td>\n",
       "      <td>1024</td>\n",
       "      <td>768</td>\n",
       "    </tr>\n",
       "    <tr>\n",
       "      <th>4</th>\n",
       "      <td>gatito sorprendido.bmp</td>\n",
       "      <td>NaN</td>\n",
       "      <td>(1024, 768)</td>\n",
       "      <td>90745</td>\n",
       "      <td>image/bmp</td>\n",
       "      <td>['gatito', 'sorprendido', 'juguete']</td>\n",
       "      <td>s0sh1</td>\n",
       "      <td>1586515249</td>\n",
       "      <td>1024</td>\n",
       "      <td>768</td>\n",
       "    </tr>\n",
       "    <tr>\n",
       "      <th>5</th>\n",
       "      <td>gatito sacando la lengua.png</td>\n",
       "      <td>NaN</td>\n",
       "      <td>(1024, 768)</td>\n",
       "      <td>96949</td>\n",
       "      <td>image/png</td>\n",
       "      <td>['gatito', 'lengua', 'enojado']</td>\n",
       "      <td>s0sh1</td>\n",
       "      <td>1586515243</td>\n",
       "      <td>1024</td>\n",
       "      <td>768</td>\n",
       "    </tr>\n",
       "    <tr>\n",
       "      <th>6</th>\n",
       "      <td>snorlax.png</td>\n",
       "      <td>pokemons</td>\n",
       "      <td>(1920, 1080)</td>\n",
       "      <td>2157124</td>\n",
       "      <td>image/png</td>\n",
       "      <td>['pokemon', 'snorlax', 'bulbasour', 'game']</td>\n",
       "      <td>s0sh1</td>\n",
       "      <td>1583515324</td>\n",
       "      <td>1920</td>\n",
       "      <td>1080</td>\n",
       "    </tr>\n",
       "    <tr>\n",
       "      <th>7</th>\n",
       "      <td>bulba.jpg</td>\n",
       "      <td>green</td>\n",
       "      <td>(1600, 900)</td>\n",
       "      <td>69440</td>\n",
       "      <td>image/jpeg</td>\n",
       "      <td>['bulbasaur', 'poke', 'game']</td>\n",
       "      <td>s0sh1</td>\n",
       "      <td>1583515329</td>\n",
       "      <td>1600</td>\n",
       "      <td>900</td>\n",
       "    </tr>\n",
       "    <tr>\n",
       "      <th>8</th>\n",
       "      <td>psycho girl.jpeg</td>\n",
       "      <td>NaN</td>\n",
       "      <td>(1920, 1080)</td>\n",
       "      <td>262331</td>\n",
       "      <td>image/jpeg</td>\n",
       "      <td>['pychodelic', 'girl']</td>\n",
       "      <td>s0sh1</td>\n",
       "      <td>1583515294</td>\n",
       "      <td>1920</td>\n",
       "      <td>1080</td>\n",
       "    </tr>\n",
       "    <tr>\n",
       "      <th>9</th>\n",
       "      <td>Skyrim Mountain.jpg</td>\n",
       "      <td>NaN</td>\n",
       "      <td>(1920, 1080)</td>\n",
       "      <td>310191</td>\n",
       "      <td>image/jpeg</td>\n",
       "      <td>['skyrim', 'game']</td>\n",
       "      <td>s0sh1</td>\n",
       "      <td>1583515311</td>\n",
       "      <td>1920</td>\n",
       "      <td>1080</td>\n",
       "    </tr>\n",
       "    <tr>\n",
       "      <th>10</th>\n",
       "      <td>skyrim mamuts.png</td>\n",
       "      <td>NaN</td>\n",
       "      <td>(1920, 1200)</td>\n",
       "      <td>298761</td>\n",
       "      <td>image/png</td>\n",
       "      <td>['skyrim', 'game']</td>\n",
       "      <td>s0sh1</td>\n",
       "      <td>1583515316</td>\n",
       "      <td>1920</td>\n",
       "      <td>1200</td>\n",
       "    </tr>\n",
       "    <tr>\n",
       "      <th>11</th>\n",
       "      <td>error.png</td>\n",
       "      <td>NaN</td>\n",
       "      <td>(798, 799)</td>\n",
       "      <td>390389</td>\n",
       "      <td>image/png</td>\n",
       "      <td>['error', 'simpsons']</td>\n",
       "      <td>Galo</td>\n",
       "      <td>1696515633</td>\n",
       "      <td>798</td>\n",
       "      <td>799</td>\n",
       "    </tr>\n",
       "  </tbody>\n",
       "</table>\n",
       "</div>"
      ],
      "text/plain": [
       "                   Relative path Description    Resolution     Size   \n",
       "0                astronauta.jpeg    vertical   (720, 1280)    78197  \\\n",
       "1                Laprovitola.raw    vertical   (935, 1681)   239046   \n",
       "2             Cielo Vertical.svg    vertical  (1600, 2560)   381980   \n",
       "3              gato cubanito.svg         NaN   (1024, 768)    76275   \n",
       "4         gatito sorprendido.bmp         NaN   (1024, 768)    90745   \n",
       "5   gatito sacando la lengua.png         NaN   (1024, 768)    96949   \n",
       "6                    snorlax.png    pokemons  (1920, 1080)  2157124   \n",
       "7                      bulba.jpg       green   (1600, 900)    69440   \n",
       "8               psycho girl.jpeg         NaN  (1920, 1080)   262331   \n",
       "9            Skyrim Mountain.jpg         NaN  (1920, 1080)   310191   \n",
       "10             skyrim mamuts.png         NaN  (1920, 1200)   298761   \n",
       "11                     error.png         NaN    (798, 799)   390389   \n",
       "\n",
       "             Type                                         Tags Profile   \n",
       "0      image/jpeg        ['astronauta', 'cielo', 'pychodelic']   s0sh1  \\\n",
       "1       image/RAW                  ['space ', 'jam', 'basket']    Galo   \n",
       "2   image/svg+xml                                    ['cielo']   s0sh1   \n",
       "3   image/svg+xml                                   ['gatito']   s0sh1   \n",
       "4       image/bmp         ['gatito', 'sorprendido', 'juguete']   s0sh1   \n",
       "5       image/png              ['gatito', 'lengua', 'enojado']   s0sh1   \n",
       "6       image/png  ['pokemon', 'snorlax', 'bulbasour', 'game']   s0sh1   \n",
       "7      image/jpeg                ['bulbasaur', 'poke', 'game']   s0sh1   \n",
       "8      image/jpeg                       ['pychodelic', 'girl']   s0sh1   \n",
       "9      image/jpeg                           ['skyrim', 'game']   s0sh1   \n",
       "10      image/png                           ['skyrim', 'game']   s0sh1   \n",
       "11      image/png                        ['error', 'simpsons']    Galo   \n",
       "\n",
       "    Last_update  Height  Width  \n",
       "0    1583515298     720   1280  \n",
       "1    1269514188     935   1681  \n",
       "2    1586515202    1600   2560  \n",
       "3    1586515229    1024    768  \n",
       "4    1586515249    1024    768  \n",
       "5    1586515243    1024    768  \n",
       "6    1583515324    1920   1080  \n",
       "7    1583515329    1600    900  \n",
       "8    1583515294    1920   1080  \n",
       "9    1583515311    1920   1080  \n",
       "10   1583515316    1920   1200  \n",
       "11   1696515633     798    799  "
      ]
     },
     "execution_count": 61,
     "metadata": {},
     "output_type": "execute_result"
    }
   ],
   "source": [
    "dF['Height'] = dF['Resolution'].apply(lambda x: int(x.split(',')[0][1:]))\n",
    "dF['Width'] = dF['Resolution'].apply(lambda x: int(x.split(',')[1][:-1]))\n",
    "dF"
   ]
  },
  {
   "attachments": {},
   "cell_type": "markdown",
   "metadata": {},
   "source": [
    "- Calculamos el maximo y el minimo, tanto de la columna alto, como ancho.\n",
    "\n",
    "- Lo imprimimos."
   ]
  },
  {
   "cell_type": "code",
   "execution_count": 62,
   "metadata": {},
   "outputs": [
    {
     "name": "stdout",
     "output_type": "stream",
     "text": [
      "+ -------------------- +\n",
      "| Maximo alto: 1920px  |\n",
      "|                      |\n",
      "| Maximo ancho: 2560px |\n",
      "+ -------------------- +\n"
     ]
    }
   ],
   "source": [
    "max_height = dF['Height'].max()\n",
    "max_width = dF['Width'].max()\n",
    "print('+','-'*20,'+')\n",
    "print(f\"| Maximo alto: {max_height}px  |\\n|{' '*22}|\\n| Maximo ancho: {max_width}px |\")\n",
    "print('+','-'*20,'+')"
   ]
  },
  {
   "attachments": {},
   "cell_type": "markdown",
   "metadata": {},
   "source": [
    "## Grafico dispersion - Relacion alto y ancho de imagenes"
   ]
  },
  {
   "attachments": {},
   "cell_type": "markdown",
   "metadata": {},
   "source": [
    "- Creamos una variable de tipo series con la informaciond el alto y ancho que tenes almacenada en el DataFrame "
   ]
  },
  {
   "cell_type": "code",
   "execution_count": 63,
   "metadata": {},
   "outputs": [
    {
     "data": {
      "text/plain": [
       "Height\n",
       "720     1280\n",
       "935     1681\n",
       "1600    2560\n",
       "1024     768\n",
       "1024     768\n",
       "1024     768\n",
       "1920    1080\n",
       "1600     900\n",
       "1920    1080\n",
       "1920    1080\n",
       "1920    1200\n",
       "798      799\n",
       "dtype: int64"
      ]
     },
     "execution_count": 63,
     "metadata": {},
     "output_type": "execute_result"
    }
   ],
   "source": [
    "wid_hei = pd.Series(dF['Width'].values, index=dF['Height'])\n",
    "wid_hei"
   ]
  },
  {
   "attachments": {},
   "cell_type": "markdown",
   "metadata": {},
   "source": [
    "- Graficamos utilizando la libreria matplotlib\n",
    "  - Cambiamos el color (c), la opacidad(alpha)\n",
    "  - Agregamos las etiquetas y el titulo\n",
    "  - Agregamos cuadriculas a la imagen (grid)"
   ]
  },
  {
   "cell_type": "code",
   "execution_count": 64,
   "metadata": {},
   "outputs": [
    {
     "data": {
      "image/png": "[encoded data removed]",
      "text/plain": [
       "<Figure size 640x480 with 1 Axes>"
      ]
     },
     "metadata": {},
     "output_type": "display_data"
    }
   ],
   "source": [
    "fig, ax = plt.subplots()\n",
    "ax.scatter(wid_hei.index, wid_hei.values, c='steelblue', alpha=0.7)\n",
    "ax.set_xlabel('Ancho')\n",
    "ax.set_ylabel('Altura')\n",
    "ax.set_title('Gráfico de dispersión de Ancho vs. Altura')\n",
    "ax.grid(True, linestyle='--', alpha=0.5)\n",
    "plt.tight_layout()\n",
    "plt.show()"
   ]
  },
  {
   "attachments": {},
   "cell_type": "markdown",
   "metadata": {},
   "source": [
    "## Grafico de barras - Modificacion segun dia de la semana"
   ]
  },
  {
   "attachments": {},
   "cell_type": "markdown",
   "metadata": {},
   "source": [
    "Importamos la libreria datetime\n",
    "Creamos una nueva columna con la fecha bien parseada"
   ]
  },
  {
   "cell_type": "code",
   "execution_count": 65,
   "metadata": {},
   "outputs": [
    {
     "data": {
      "text/html": [
       "<div>\n",
       "<style scoped>\n",
       "    .dataframe tbody tr th:only-of-type {\n",
       "        vertical-align: middle;\n",
       "    }\n",
       "\n",
       "    .dataframe tbody tr th {\n",
       "        vertical-align: top;\n",
       "    }\n",
       "\n",
       "    .dataframe thead th {\n",
       "        text-align: right;\n",
       "    }\n",
       "</style>\n",
       "<table border=\"1\" class=\"dataframe\">\n",
       "  <thead>\n",
       "    <tr style=\"text-align: right;\">\n",
       "      <th></th>\n",
       "      <th>Relative path</th>\n",
       "      <th>Description</th>\n",
       "      <th>Resolution</th>\n",
       "      <th>Size</th>\n",
       "      <th>Type</th>\n",
       "      <th>Tags</th>\n",
       "      <th>Profile</th>\n",
       "      <th>Last_update</th>\n",
       "      <th>Height</th>\n",
       "      <th>Width</th>\n",
       "      <th>Fecha</th>\n",
       "    </tr>\n",
       "  </thead>\n",
       "  <tbody>\n",
       "    <tr>\n",
       "      <th>0</th>\n",
       "      <td>astronauta.jpeg</td>\n",
       "      <td>vertical</td>\n",
       "      <td>(720, 1280)</td>\n",
       "      <td>78197</td>\n",
       "      <td>image/jpeg</td>\n",
       "      <td>['astronauta', 'cielo', 'pychodelic']</td>\n",
       "      <td>s0sh1</td>\n",
       "      <td>1583515298</td>\n",
       "      <td>720</td>\n",
       "      <td>1280</td>\n",
       "      <td>2020-03-06 14:21:38</td>\n",
       "    </tr>\n",
       "    <tr>\n",
       "      <th>1</th>\n",
       "      <td>Laprovitola.raw</td>\n",
       "      <td>vertical</td>\n",
       "      <td>(935, 1681)</td>\n",
       "      <td>239046</td>\n",
       "      <td>image/RAW</td>\n",
       "      <td>['space ', 'jam', 'basket']</td>\n",
       "      <td>Galo</td>\n",
       "      <td>1269514188</td>\n",
       "      <td>935</td>\n",
       "      <td>1681</td>\n",
       "      <td>2010-03-25 07:49:48</td>\n",
       "    </tr>\n",
       "    <tr>\n",
       "      <th>2</th>\n",
       "      <td>Cielo Vertical.svg</td>\n",
       "      <td>vertical</td>\n",
       "      <td>(1600, 2560)</td>\n",
       "      <td>381980</td>\n",
       "      <td>image/svg+xml</td>\n",
       "      <td>['cielo']</td>\n",
       "      <td>s0sh1</td>\n",
       "      <td>1586515202</td>\n",
       "      <td>1600</td>\n",
       "      <td>2560</td>\n",
       "      <td>2020-04-10 07:40:02</td>\n",
       "    </tr>\n",
       "    <tr>\n",
       "      <th>3</th>\n",
       "      <td>gato cubanito.svg</td>\n",
       "      <td>NaN</td>\n",
       "      <td>(1024, 768)</td>\n",
       "      <td>76275</td>\n",
       "      <td>image/svg+xml</td>\n",
       "      <td>['gatito']</td>\n",
       "      <td>s0sh1</td>\n",
       "      <td>1586515229</td>\n",
       "      <td>1024</td>\n",
       "      <td>768</td>\n",
       "      <td>2020-04-10 07:40:29</td>\n",
       "    </tr>\n",
       "    <tr>\n",
       "      <th>4</th>\n",
       "      <td>gatito sorprendido.bmp</td>\n",
       "      <td>NaN</td>\n",
       "      <td>(1024, 768)</td>\n",
       "      <td>90745</td>\n",
       "      <td>image/bmp</td>\n",
       "      <td>['gatito', 'sorprendido', 'juguete']</td>\n",
       "      <td>s0sh1</td>\n",
       "      <td>1586515249</td>\n",
       "      <td>1024</td>\n",
       "      <td>768</td>\n",
       "      <td>2020-04-10 07:40:49</td>\n",
       "    </tr>\n",
       "    <tr>\n",
       "      <th>5</th>\n",
       "      <td>gatito sacando la lengua.png</td>\n",
       "      <td>NaN</td>\n",
       "      <td>(1024, 768)</td>\n",
       "      <td>96949</td>\n",
       "      <td>image/png</td>\n",
       "      <td>['gatito', 'lengua', 'enojado']</td>\n",
       "      <td>s0sh1</td>\n",
       "      <td>1586515243</td>\n",
       "      <td>1024</td>\n",
       "      <td>768</td>\n",
       "      <td>2020-04-10 07:40:43</td>\n",
       "    </tr>\n",
       "    <tr>\n",
       "      <th>6</th>\n",
       "      <td>snorlax.png</td>\n",
       "      <td>pokemons</td>\n",
       "      <td>(1920, 1080)</td>\n",
       "      <td>2157124</td>\n",
       "      <td>image/png</td>\n",
       "      <td>['pokemon', 'snorlax', 'bulbasour', 'game']</td>\n",
       "      <td>s0sh1</td>\n",
       "      <td>1583515324</td>\n",
       "      <td>1920</td>\n",
       "      <td>1080</td>\n",
       "      <td>2020-03-06 14:22:04</td>\n",
       "    </tr>\n",
       "    <tr>\n",
       "      <th>7</th>\n",
       "      <td>bulba.jpg</td>\n",
       "      <td>green</td>\n",
       "      <td>(1600, 900)</td>\n",
       "      <td>69440</td>\n",
       "      <td>image/jpeg</td>\n",
       "      <td>['bulbasaur', 'poke', 'game']</td>\n",
       "      <td>s0sh1</td>\n",
       "      <td>1583515329</td>\n",
       "      <td>1600</td>\n",
       "      <td>900</td>\n",
       "      <td>2020-03-06 14:22:09</td>\n",
       "    </tr>\n",
       "    <tr>\n",
       "      <th>8</th>\n",
       "      <td>psycho girl.jpeg</td>\n",
       "      <td>NaN</td>\n",
       "      <td>(1920, 1080)</td>\n",
       "      <td>262331</td>\n",
       "      <td>image/jpeg</td>\n",
       "      <td>['pychodelic', 'girl']</td>\n",
       "      <td>s0sh1</td>\n",
       "      <td>1583515294</td>\n",
       "      <td>1920</td>\n",
       "      <td>1080</td>\n",
       "      <td>2020-03-06 14:21:34</td>\n",
       "    </tr>\n",
       "    <tr>\n",
       "      <th>9</th>\n",
       "      <td>Skyrim Mountain.jpg</td>\n",
       "      <td>NaN</td>\n",
       "      <td>(1920, 1080)</td>\n",
       "      <td>310191</td>\n",
       "      <td>image/jpeg</td>\n",
       "      <td>['skyrim', 'game']</td>\n",
       "      <td>s0sh1</td>\n",
       "      <td>1583515311</td>\n",
       "      <td>1920</td>\n",
       "      <td>1080</td>\n",
       "      <td>2020-03-06 14:21:51</td>\n",
       "    </tr>\n",
       "    <tr>\n",
       "      <th>10</th>\n",
       "      <td>skyrim mamuts.png</td>\n",
       "      <td>NaN</td>\n",
       "      <td>(1920, 1200)</td>\n",
       "      <td>298761</td>\n",
       "      <td>image/png</td>\n",
       "      <td>['skyrim', 'game']</td>\n",
       "      <td>s0sh1</td>\n",
       "      <td>1583515316</td>\n",
       "      <td>1920</td>\n",
       "      <td>1200</td>\n",
       "      <td>2020-03-06 14:21:56</td>\n",
       "    </tr>\n",
       "    <tr>\n",
       "      <th>11</th>\n",
       "      <td>error.png</td>\n",
       "      <td>NaN</td>\n",
       "      <td>(798, 799)</td>\n",
       "      <td>390389</td>\n",
       "      <td>image/png</td>\n",
       "      <td>['error', 'simpsons']</td>\n",
       "      <td>Galo</td>\n",
       "      <td>1696515633</td>\n",
       "      <td>798</td>\n",
       "      <td>799</td>\n",
       "      <td>2023-10-05 11:20:33</td>\n",
       "    </tr>\n",
       "  </tbody>\n",
       "</table>\n",
       "</div>"
      ],
      "text/plain": [
       "                   Relative path Description    Resolution     Size   \n",
       "0                astronauta.jpeg    vertical   (720, 1280)    78197  \\\n",
       "1                Laprovitola.raw    vertical   (935, 1681)   239046   \n",
       "2             Cielo Vertical.svg    vertical  (1600, 2560)   381980   \n",
       "3              gato cubanito.svg         NaN   (1024, 768)    76275   \n",
       "4         gatito sorprendido.bmp         NaN   (1024, 768)    90745   \n",
       "5   gatito sacando la lengua.png         NaN   (1024, 768)    96949   \n",
       "6                    snorlax.png    pokemons  (1920, 1080)  2157124   \n",
       "7                      bulba.jpg       green   (1600, 900)    69440   \n",
       "8               psycho girl.jpeg         NaN  (1920, 1080)   262331   \n",
       "9            Skyrim Mountain.jpg         NaN  (1920, 1080)   310191   \n",
       "10             skyrim mamuts.png         NaN  (1920, 1200)   298761   \n",
       "11                     error.png         NaN    (798, 799)   390389   \n",
       "\n",
       "             Type                                         Tags Profile   \n",
       "0      image/jpeg        ['astronauta', 'cielo', 'pychodelic']   s0sh1  \\\n",
       "1       image/RAW                  ['space ', 'jam', 'basket']    Galo   \n",
       "2   image/svg+xml                                    ['cielo']   s0sh1   \n",
       "3   image/svg+xml                                   ['gatito']   s0sh1   \n",
       "4       image/bmp         ['gatito', 'sorprendido', 'juguete']   s0sh1   \n",
       "5       image/png              ['gatito', 'lengua', 'enojado']   s0sh1   \n",
       "6       image/png  ['pokemon', 'snorlax', 'bulbasour', 'game']   s0sh1   \n",
       "7      image/jpeg                ['bulbasaur', 'poke', 'game']   s0sh1   \n",
       "8      image/jpeg                       ['pychodelic', 'girl']   s0sh1   \n",
       "9      image/jpeg                           ['skyrim', 'game']   s0sh1   \n",
       "10      image/png                           ['skyrim', 'game']   s0sh1   \n",
       "11      image/png                        ['error', 'simpsons']    Galo   \n",
       "\n",
       "    Last_update  Height  Width               Fecha  \n",
       "0    1583515298     720   1280 2020-03-06 14:21:38  \n",
       "1    1269514188     935   1681 2010-03-25 07:49:48  \n",
       "2    1586515202    1600   2560 2020-04-10 07:40:02  \n",
       "3    1586515229    1024    768 2020-04-10 07:40:29  \n",
       "4    1586515249    1024    768 2020-04-10 07:40:49  \n",
       "5    1586515243    1024    768 2020-04-10 07:40:43  \n",
       "6    1583515324    1920   1080 2020-03-06 14:22:04  \n",
       "7    1583515329    1600    900 2020-03-06 14:22:09  \n",
       "8    1583515294    1920   1080 2020-03-06 14:21:34  \n",
       "9    1583515311    1920   1080 2020-03-06 14:21:51  \n",
       "10   1583515316    1920   1200 2020-03-06 14:21:56  \n",
       "11   1696515633     798    799 2023-10-05 11:20:33  "
      ]
     },
     "execution_count": 65,
     "metadata": {},
     "output_type": "execute_result"
    }
   ],
   "source": [
    "from datetime import datetime\n",
    "\n",
    "dF['Fecha'] = dF['Last_update'].apply(lambda x: datetime.fromtimestamp(x))\n",
    "dF"
   ]
  },
  {
   "attachments": {},
   "cell_type": "markdown",
   "metadata": {},
   "source": [
    "- Creamos una variable, donde agrupamos por dia de la semana, y guardamos la cantidad de repeticiones."
   ]
  },
  {
   "cell_type": "code",
   "execution_count": 66,
   "metadata": {},
   "outputs": [
    {
     "data": {
      "text/plain": [
       "Fecha\n",
       "3     2\n",
       "4    10\n",
       "dtype: int64"
      ]
     },
     "execution_count": 66,
     "metadata": {},
     "output_type": "execute_result"
    }
   ],
   "source": [
    "date = dF.groupby(dF['Fecha'].dt.day_of_week).size()\n",
    "date"
   ]
  },
  {
   "attachments": {},
   "cell_type": "markdown",
   "metadata": {},
   "source": [
    "- Renombramos los indices de los dias, para luego poder graficarlos con su nombre correspondiente"
   ]
  },
  {
   "cell_type": "code",
   "execution_count": 67,
   "metadata": {},
   "outputs": [
    {
     "data": {
      "text/plain": [
       "Fecha\n",
       "Jueves      2\n",
       "Viernes    10\n",
       "dtype: int64"
      ]
     },
     "execution_count": 67,
     "metadata": {},
     "output_type": "execute_result"
    }
   ],
   "source": [
    "date = date.rename(index={0:'Lunes',1:'Martes',2:'Miercoles',3:'Jueves',4:'Viernes',5:'Sabado',6:'Domingo'})\n",
    "date"
   ]
  },
  {
   "attachments": {},
   "cell_type": "markdown",
   "metadata": {},
   "source": [
    "- Graficamos utilizando matplotlib, pasando la constante colores para hacerlo mas agradable.\n",
    "- Tambien le agregamos un texto, y sus respectivas etiquetas.\n",
    "- Rotamos las etiquetas en el caso que no entren (xticks)\n",
    "- Ajustamos el espacio entre las barras (tight_layout)"
   ]
  },
  {
   "cell_type": "code",
   "execution_count": 68,
   "metadata": {},
   "outputs": [
    {
     "data": {
      "image/png": "[encoded data removed]",
      "text/plain": [
       "<Figure size 640x480 with 1 Axes>"
      ]
     },
     "metadata": {},
     "output_type": "display_data"
    }
   ],
   "source": [
    "fig, ax = plt.subplots()\n",
    "\n",
    "ax.bar(date.index, date.values, color=COLORS)\n",
    "\n",
    "plt.title(\"Cantidad de operaciones por día\")\n",
    "plt.xlabel(\"Día\")\n",
    "plt.ylabel(\"Cantidad de operaciones\")\n",
    "\n",
    "plt.xticks(rotation=45)\n",
    "plt.tight_layout()\n",
    "\n",
    "plt.show()"
   ]
  },
  {
   "attachments": {},
   "cell_type": "markdown",
   "metadata": {},
   "source": [
    "## Grafico de lineas - Actualizaciones a travez del tiempo"
   ]
  },
  {
   "attachments": {},
   "cell_type": "markdown",
   "metadata": {},
   "source": [
    "- Agrupamos segun la fecha, y su cantidad de repeticiones."
   ]
  },
  {
   "cell_type": "code",
   "execution_count": 69,
   "metadata": {},
   "outputs": [
    {
     "data": {
      "text/plain": [
       "Fecha\n",
       "2010-03-25    1\n",
       "2020-03-06    6\n",
       "2020-04-10    4\n",
       "2023-10-05    1\n",
       "dtype: int64"
      ]
     },
     "execution_count": 69,
     "metadata": {},
     "output_type": "execute_result"
    }
   ],
   "source": [
    "date_upt = dF.groupby(dF['Fecha'].dt.date).size()\n",
    "date_upt"
   ]
  },
  {
   "attachments": {},
   "cell_type": "markdown",
   "metadata": {},
   "source": [
    "- Graficamos utilizando matplotlib, pasando la el valor 'blue' como color para hacerlo mas agradable.\n",
    "- Tambien le agremos un texto, y sus respectivas etiquetas.\n",
    "- Agregamos cuadriculas a la imagen (grid)"
   ]
  },
  {
   "cell_type": "code",
   "execution_count": 70,
   "metadata": {},
   "outputs": [
    {
     "data": {
      "image/png": "[encoded data removed]",
      "text/plain": [
       "<Figure size 640x480 with 1 Axes>"
      ]
     },
     "metadata": {},
     "output_type": "display_data"
    }
   ],
   "source": [
    "fig, ax = plt.subplots()\n",
    "ax.plot(date_upt.index, date_upt.values, marker = \"o\", markersize = 5,color=COLORS[0])\n",
    "plt.title(\"Cantidad de operaciones por fecha\")\n",
    "plt.xlabel(\"FECHA\")\n",
    "plt.ylabel(\"CANT. OPERACIONES\")\n",
    "ax.grid(True, linestyle='--', alpha=0.5)\n",
    "plt.show()"
   ]
  },
  {
   "attachments": {},
   "cell_type": "markdown",
   "metadata": {},
   "source": [
    "## Nube de palabras - Tags"
   ]
  },
  {
   "attachments": {},
   "cell_type": "markdown",
   "metadata": {},
   "source": [
    "- Guardamos todos los tags, en una variable, spliteando por ', ', para separarlos por palabras.\n",
    "- Luego creamos una lista estos valores, utilizando el metodo explode().\n",
    "- Por ultimo reemplazamos las ', por la nada misma, para borrarlas"
   ]
  },
  {
   "cell_type": "code",
   "execution_count": 71,
   "metadata": {},
   "outputs": [
    {
     "data": {
      "text/plain": [
       "0    astronauta\n",
       "0         cielo\n",
       "0    pychodelic\n",
       "1        space \n",
       "1           jam\n",
       "Name: Tags, dtype: object"
      ]
     },
     "execution_count": 71,
     "metadata": {},
     "output_type": "execute_result"
    }
   ],
   "source": [
    "s_cloud = dF['Tags'].str[1:-1].str.split(', ')\n",
    "s_cloud = s_cloud.explode()\n",
    "s_cloud = s_cloud.str.replace(\"'\",\"\")\n",
    "s_cloud.head()"
   ]
  },
  {
   "attachments": {},
   "cell_type": "markdown",
   "metadata": {},
   "source": [
    "- Luego, agrupamos las palabras, contando sus repeticiones."
   ]
  },
  {
   "cell_type": "code",
   "execution_count": 72,
   "metadata": {},
   "outputs": [
    {
     "data": {
      "text/plain": [
       "astronauta     1\n",
       "basket         1\n",
       "bulbasaur      1\n",
       "bulbasour      1\n",
       "cielo          2\n",
       "enojado        1\n",
       "error          1\n",
       "game           4\n",
       "gatito         3\n",
       "girl           1\n",
       "jam            1\n",
       "juguete        1\n",
       "lengua         1\n",
       "poke           1\n",
       "pokemon        1\n",
       "pychodelic     2\n",
       "simpsons       1\n",
       "skyrim         2\n",
       "snorlax        1\n",
       "sorprendido    1\n",
       "space          1\n",
       "Name: Tags, dtype: int64"
      ]
     },
     "execution_count": 72,
     "metadata": {},
     "output_type": "execute_result"
    }
   ],
   "source": [
    "s_cloud = s_cloud.groupby(s_cloud.values).count()\n",
    "s_cloud"
   ]
  },
  {
   "attachments": {},
   "cell_type": "markdown",
   "metadata": {},
   "source": [
    "- Por ultimo, utilizamos la libreria wordcloud para graficar, usando los parametros del color de fondo, el color del contorno, y un mapeo de color a la nube."
   ]
  },
  {
   "cell_type": "code",
   "execution_count": 73,
   "metadata": {},
   "outputs": [
    {
     "data": {
      "image/png": "[encoded data removed]",
      "text/plain": [
       "<Figure size 640x480 with 1 Axes>"
      ]
     },
     "metadata": {},
     "output_type": "display_data"
    }
   ],
   "source": [
    "from wordcloud import WordCloud\n",
    "wordcloud = WordCloud(background_color=\"black\", contour_color='steelblue', colormap='Pastel1')\n",
    "wordcloud.generate_from_frequencies(s_cloud)\n",
    "\n",
    "plt.imshow(wordcloud, interpolation='bilinear')\n",
    "plt.axis('off')\n",
    "plt.show()"
   ]
  },
  {
   "attachments": {},
   "cell_type": "markdown",
   "metadata": {},
   "source": [
    "## DataFrame - Tres tags mas utilizados\n"
   ]
  },
  {
   "attachments": {},
   "cell_type": "markdown",
   "metadata": {},
   "source": [
    "- Ordenamos los tags que tenemos del grafico anterior, nos quedamos con los 3 mas utilizados\n",
    "- Lo pasamos a un data frame, reseteamos los indices\n",
    "- Renombramos las columnas"
   ]
  },
  {
   "cell_type": "code",
   "execution_count": 74,
   "metadata": {},
   "outputs": [
    {
     "data": {
      "text/html": [
       "<div>\n",
       "<style scoped>\n",
       "    .dataframe tbody tr th:only-of-type {\n",
       "        vertical-align: middle;\n",
       "    }\n",
       "\n",
       "    .dataframe tbody tr th {\n",
       "        vertical-align: top;\n",
       "    }\n",
       "\n",
       "    .dataframe thead th {\n",
       "        text-align: right;\n",
       "    }\n",
       "</style>\n",
       "<table border=\"1\" class=\"dataframe\">\n",
       "  <thead>\n",
       "    <tr style=\"text-align: right;\">\n",
       "      <th></th>\n",
       "      <th>Tags</th>\n",
       "      <th>Usos</th>\n",
       "    </tr>\n",
       "  </thead>\n",
       "  <tbody>\n",
       "    <tr>\n",
       "      <th>0</th>\n",
       "      <td>game</td>\n",
       "      <td>4</td>\n",
       "    </tr>\n",
       "    <tr>\n",
       "      <th>1</th>\n",
       "      <td>gatito</td>\n",
       "      <td>3</td>\n",
       "    </tr>\n",
       "    <tr>\n",
       "      <th>2</th>\n",
       "      <td>cielo</td>\n",
       "      <td>2</td>\n",
       "    </tr>\n",
       "  </tbody>\n",
       "</table>\n",
       "</div>"
      ],
      "text/plain": [
       "     Tags  Usos\n",
       "0    game     4\n",
       "1  gatito     3\n",
       "2   cielo     2"
      ]
     },
     "execution_count": 74,
     "metadata": {},
     "output_type": "execute_result"
    }
   ],
   "source": [
    "tags_max = s_cloud.sort_values(ascending=False).head(3)\n",
    "tags_max = tags_max.to_frame().reset_index()\n",
    "tags_max = tags_max.rename(columns = {'index':'Tags','Tags':'Usos'})\n",
    "tags_max"
   ]
  },
  {
   "attachments": {},
   "cell_type": "markdown",
   "metadata": {},
   "source": [
    "## DataFrame - Bytes promedio por usuario "
   ]
  },
  {
   "attachments": {},
   "cell_type": "markdown",
   "metadata": {},
   "source": [
    "- Creamos DataFrame con datos de los perfiles\n",
    "- Solo nos quedamos con las llaves, osea los nicks de los perfiles\n",
    "- Lo volvemos un dataframe, reiniciamos los indices y eliminamos la columna llamada 0, que genera el reset_index\n",
    "- renombramos la columna index por Profile"
   ]
  },
  {
   "cell_type": "code",
   "execution_count": 75,
   "metadata": {},
   "outputs": [
    {
     "data": {
      "text/html": [
       "<div>\n",
       "<style scoped>\n",
       "    .dataframe tbody tr th:only-of-type {\n",
       "        vertical-align: middle;\n",
       "    }\n",
       "\n",
       "    .dataframe tbody tr th {\n",
       "        vertical-align: top;\n",
       "    }\n",
       "\n",
       "    .dataframe thead th {\n",
       "        text-align: right;\n",
       "    }\n",
       "</style>\n",
       "<table border=\"1\" class=\"dataframe\">\n",
       "  <thead>\n",
       "    <tr style=\"text-align: right;\">\n",
       "      <th></th>\n",
       "      <th>Profile</th>\n",
       "    </tr>\n",
       "  </thead>\n",
       "  <tbody>\n",
       "    <tr>\n",
       "      <th>0</th>\n",
       "      <td>Galo</td>\n",
       "    </tr>\n",
       "    <tr>\n",
       "      <th>1</th>\n",
       "      <td>Lauta</td>\n",
       "    </tr>\n",
       "    <tr>\n",
       "      <th>2</th>\n",
       "      <td>albertone</td>\n",
       "    </tr>\n",
       "    <tr>\n",
       "      <th>3</th>\n",
       "      <td>s0sh1</td>\n",
       "    </tr>\n",
       "    <tr>\n",
       "      <th>4</th>\n",
       "      <td>Nico</td>\n",
       "    </tr>\n",
       "    <tr>\n",
       "      <th>5</th>\n",
       "      <td>Profe</td>\n",
       "    </tr>\n",
       "  </tbody>\n",
       "</table>\n",
       "</div>"
      ],
      "text/plain": [
       "     Profile\n",
       "0       Galo\n",
       "1      Lauta\n",
       "2  albertone\n",
       "3      s0sh1\n",
       "4       Nico\n",
       "5      Profe"
      ]
     },
     "execution_count": 75,
     "metadata": {},
     "output_type": "execute_result"
    }
   ],
   "source": [
    "dF_json = pd.read_json(path_profiles) \n",
    "dF_json = dF_json.keys()\n",
    "dF_json = dF_json.to_frame().reset_index().drop(0,axis=1) \n",
    "dF_json = dF_json.rename(columns={\"index\": \"Profile\"})\n",
    "dF_json"
   ]
  },
  {
   "attachments": {},
   "cell_type": "markdown",
   "metadata": {},
   "source": [
    "- Una vez que tenemos el mismo nombre de la columna donde almacenamos los nicks, podemos hacer un merge, con el dataFrame de los tags"
   ]
  },
  {
   "cell_type": "code",
   "execution_count": 76,
   "metadata": {},
   "outputs": [
    {
     "data": {
      "text/html": [
       "<div>\n",
       "<style scoped>\n",
       "    .dataframe tbody tr th:only-of-type {\n",
       "        vertical-align: middle;\n",
       "    }\n",
       "\n",
       "    .dataframe tbody tr th {\n",
       "        vertical-align: top;\n",
       "    }\n",
       "\n",
       "    .dataframe thead th {\n",
       "        text-align: right;\n",
       "    }\n",
       "</style>\n",
       "<table border=\"1\" class=\"dataframe\">\n",
       "  <thead>\n",
       "    <tr style=\"text-align: right;\">\n",
       "      <th></th>\n",
       "      <th>Relative path</th>\n",
       "      <th>Description</th>\n",
       "      <th>Resolution</th>\n",
       "      <th>Size</th>\n",
       "      <th>Type</th>\n",
       "      <th>Tags</th>\n",
       "      <th>Profile</th>\n",
       "      <th>Last_update</th>\n",
       "      <th>Height</th>\n",
       "      <th>Width</th>\n",
       "      <th>Fecha</th>\n",
       "    </tr>\n",
       "  </thead>\n",
       "  <tbody>\n",
       "    <tr>\n",
       "      <th>0</th>\n",
       "      <td>astronauta.jpeg</td>\n",
       "      <td>vertical</td>\n",
       "      <td>(720, 1280)</td>\n",
       "      <td>78197.0</td>\n",
       "      <td>image/jpeg</td>\n",
       "      <td>['astronauta', 'cielo', 'pychodelic']</td>\n",
       "      <td>s0sh1</td>\n",
       "      <td>1.583515e+09</td>\n",
       "      <td>720.0</td>\n",
       "      <td>1280.0</td>\n",
       "      <td>2020-03-06 14:21:38</td>\n",
       "    </tr>\n",
       "    <tr>\n",
       "      <th>1</th>\n",
       "      <td>Cielo Vertical.svg</td>\n",
       "      <td>vertical</td>\n",
       "      <td>(1600, 2560)</td>\n",
       "      <td>381980.0</td>\n",
       "      <td>image/svg+xml</td>\n",
       "      <td>['cielo']</td>\n",
       "      <td>s0sh1</td>\n",
       "      <td>1.586515e+09</td>\n",
       "      <td>1600.0</td>\n",
       "      <td>2560.0</td>\n",
       "      <td>2020-04-10 07:40:02</td>\n",
       "    </tr>\n",
       "    <tr>\n",
       "      <th>2</th>\n",
       "      <td>gato cubanito.svg</td>\n",
       "      <td>NaN</td>\n",
       "      <td>(1024, 768)</td>\n",
       "      <td>76275.0</td>\n",
       "      <td>image/svg+xml</td>\n",
       "      <td>['gatito']</td>\n",
       "      <td>s0sh1</td>\n",
       "      <td>1.586515e+09</td>\n",
       "      <td>1024.0</td>\n",
       "      <td>768.0</td>\n",
       "      <td>2020-04-10 07:40:29</td>\n",
       "    </tr>\n",
       "    <tr>\n",
       "      <th>3</th>\n",
       "      <td>gatito sorprendido.bmp</td>\n",
       "      <td>NaN</td>\n",
       "      <td>(1024, 768)</td>\n",
       "      <td>90745.0</td>\n",
       "      <td>image/bmp</td>\n",
       "      <td>['gatito', 'sorprendido', 'juguete']</td>\n",
       "      <td>s0sh1</td>\n",
       "      <td>1.586515e+09</td>\n",
       "      <td>1024.0</td>\n",
       "      <td>768.0</td>\n",
       "      <td>2020-04-10 07:40:49</td>\n",
       "    </tr>\n",
       "    <tr>\n",
       "      <th>4</th>\n",
       "      <td>gatito sacando la lengua.png</td>\n",
       "      <td>NaN</td>\n",
       "      <td>(1024, 768)</td>\n",
       "      <td>96949.0</td>\n",
       "      <td>image/png</td>\n",
       "      <td>['gatito', 'lengua', 'enojado']</td>\n",
       "      <td>s0sh1</td>\n",
       "      <td>1.586515e+09</td>\n",
       "      <td>1024.0</td>\n",
       "      <td>768.0</td>\n",
       "      <td>2020-04-10 07:40:43</td>\n",
       "    </tr>\n",
       "    <tr>\n",
       "      <th>5</th>\n",
       "      <td>snorlax.png</td>\n",
       "      <td>pokemons</td>\n",
       "      <td>(1920, 1080)</td>\n",
       "      <td>2157124.0</td>\n",
       "      <td>image/png</td>\n",
       "      <td>['pokemon', 'snorlax', 'bulbasour', 'game']</td>\n",
       "      <td>s0sh1</td>\n",
       "      <td>1.583515e+09</td>\n",
       "      <td>1920.0</td>\n",
       "      <td>1080.0</td>\n",
       "      <td>2020-03-06 14:22:04</td>\n",
       "    </tr>\n",
       "    <tr>\n",
       "      <th>6</th>\n",
       "      <td>bulba.jpg</td>\n",
       "      <td>green</td>\n",
       "      <td>(1600, 900)</td>\n",
       "      <td>69440.0</td>\n",
       "      <td>image/jpeg</td>\n",
       "      <td>['bulbasaur', 'poke', 'game']</td>\n",
       "      <td>s0sh1</td>\n",
       "      <td>1.583515e+09</td>\n",
       "      <td>1600.0</td>\n",
       "      <td>900.0</td>\n",
       "      <td>2020-03-06 14:22:09</td>\n",
       "    </tr>\n",
       "    <tr>\n",
       "      <th>7</th>\n",
       "      <td>psycho girl.jpeg</td>\n",
       "      <td>NaN</td>\n",
       "      <td>(1920, 1080)</td>\n",
       "      <td>262331.0</td>\n",
       "      <td>image/jpeg</td>\n",
       "      <td>['pychodelic', 'girl']</td>\n",
       "      <td>s0sh1</td>\n",
       "      <td>1.583515e+09</td>\n",
       "      <td>1920.0</td>\n",
       "      <td>1080.0</td>\n",
       "      <td>2020-03-06 14:21:34</td>\n",
       "    </tr>\n",
       "    <tr>\n",
       "      <th>8</th>\n",
       "      <td>Skyrim Mountain.jpg</td>\n",
       "      <td>NaN</td>\n",
       "      <td>(1920, 1080)</td>\n",
       "      <td>310191.0</td>\n",
       "      <td>image/jpeg</td>\n",
       "      <td>['skyrim', 'game']</td>\n",
       "      <td>s0sh1</td>\n",
       "      <td>1.583515e+09</td>\n",
       "      <td>1920.0</td>\n",
       "      <td>1080.0</td>\n",
       "      <td>2020-03-06 14:21:51</td>\n",
       "    </tr>\n",
       "    <tr>\n",
       "      <th>9</th>\n",
       "      <td>skyrim mamuts.png</td>\n",
       "      <td>NaN</td>\n",
       "      <td>(1920, 1200)</td>\n",
       "      <td>298761.0</td>\n",
       "      <td>image/png</td>\n",
       "      <td>['skyrim', 'game']</td>\n",
       "      <td>s0sh1</td>\n",
       "      <td>1.583515e+09</td>\n",
       "      <td>1920.0</td>\n",
       "      <td>1200.0</td>\n",
       "      <td>2020-03-06 14:21:56</td>\n",
       "    </tr>\n",
       "    <tr>\n",
       "      <th>10</th>\n",
       "      <td>Laprovitola.raw</td>\n",
       "      <td>vertical</td>\n",
       "      <td>(935, 1681)</td>\n",
       "      <td>239046.0</td>\n",
       "      <td>image/RAW</td>\n",
       "      <td>['space ', 'jam', 'basket']</td>\n",
       "      <td>Galo</td>\n",
       "      <td>1.269514e+09</td>\n",
       "      <td>935.0</td>\n",
       "      <td>1681.0</td>\n",
       "      <td>2010-03-25 07:49:48</td>\n",
       "    </tr>\n",
       "    <tr>\n",
       "      <th>11</th>\n",
       "      <td>error.png</td>\n",
       "      <td>NaN</td>\n",
       "      <td>(798, 799)</td>\n",
       "      <td>390389.0</td>\n",
       "      <td>image/png</td>\n",
       "      <td>['error', 'simpsons']</td>\n",
       "      <td>Galo</td>\n",
       "      <td>1.696516e+09</td>\n",
       "      <td>798.0</td>\n",
       "      <td>799.0</td>\n",
       "      <td>2023-10-05 11:20:33</td>\n",
       "    </tr>\n",
       "    <tr>\n",
       "      <th>12</th>\n",
       "      <td>NaN</td>\n",
       "      <td>NaN</td>\n",
       "      <td>NaN</td>\n",
       "      <td>NaN</td>\n",
       "      <td>NaN</td>\n",
       "      <td>NaN</td>\n",
       "      <td>Lauta</td>\n",
       "      <td>NaN</td>\n",
       "      <td>NaN</td>\n",
       "      <td>NaN</td>\n",
       "      <td>NaT</td>\n",
       "    </tr>\n",
       "    <tr>\n",
       "      <th>13</th>\n",
       "      <td>NaN</td>\n",
       "      <td>NaN</td>\n",
       "      <td>NaN</td>\n",
       "      <td>NaN</td>\n",
       "      <td>NaN</td>\n",
       "      <td>NaN</td>\n",
       "      <td>albertone</td>\n",
       "      <td>NaN</td>\n",
       "      <td>NaN</td>\n",
       "      <td>NaN</td>\n",
       "      <td>NaT</td>\n",
       "    </tr>\n",
       "    <tr>\n",
       "      <th>14</th>\n",
       "      <td>NaN</td>\n",
       "      <td>NaN</td>\n",
       "      <td>NaN</td>\n",
       "      <td>NaN</td>\n",
       "      <td>NaN</td>\n",
       "      <td>NaN</td>\n",
       "      <td>Nico</td>\n",
       "      <td>NaN</td>\n",
       "      <td>NaN</td>\n",
       "      <td>NaN</td>\n",
       "      <td>NaT</td>\n",
       "    </tr>\n",
       "    <tr>\n",
       "      <th>15</th>\n",
       "      <td>NaN</td>\n",
       "      <td>NaN</td>\n",
       "      <td>NaN</td>\n",
       "      <td>NaN</td>\n",
       "      <td>NaN</td>\n",
       "      <td>NaN</td>\n",
       "      <td>Profe</td>\n",
       "      <td>NaN</td>\n",
       "      <td>NaN</td>\n",
       "      <td>NaN</td>\n",
       "      <td>NaT</td>\n",
       "    </tr>\n",
       "  </tbody>\n",
       "</table>\n",
       "</div>"
      ],
      "text/plain": [
       "                   Relative path Description    Resolution       Size   \n",
       "0                astronauta.jpeg    vertical   (720, 1280)    78197.0  \\\n",
       "1             Cielo Vertical.svg    vertical  (1600, 2560)   381980.0   \n",
       "2              gato cubanito.svg         NaN   (1024, 768)    76275.0   \n",
       "3         gatito sorprendido.bmp         NaN   (1024, 768)    90745.0   \n",
       "4   gatito sacando la lengua.png         NaN   (1024, 768)    96949.0   \n",
       "5                    snorlax.png    pokemons  (1920, 1080)  2157124.0   \n",
       "6                      bulba.jpg       green   (1600, 900)    69440.0   \n",
       "7               psycho girl.jpeg         NaN  (1920, 1080)   262331.0   \n",
       "8            Skyrim Mountain.jpg         NaN  (1920, 1080)   310191.0   \n",
       "9              skyrim mamuts.png         NaN  (1920, 1200)   298761.0   \n",
       "10               Laprovitola.raw    vertical   (935, 1681)   239046.0   \n",
       "11                     error.png         NaN    (798, 799)   390389.0   \n",
       "12                           NaN         NaN           NaN        NaN   \n",
       "13                           NaN         NaN           NaN        NaN   \n",
       "14                           NaN         NaN           NaN        NaN   \n",
       "15                           NaN         NaN           NaN        NaN   \n",
       "\n",
       "             Type                                         Tags    Profile   \n",
       "0      image/jpeg        ['astronauta', 'cielo', 'pychodelic']      s0sh1  \\\n",
       "1   image/svg+xml                                    ['cielo']      s0sh1   \n",
       "2   image/svg+xml                                   ['gatito']      s0sh1   \n",
       "3       image/bmp         ['gatito', 'sorprendido', 'juguete']      s0sh1   \n",
       "4       image/png              ['gatito', 'lengua', 'enojado']      s0sh1   \n",
       "5       image/png  ['pokemon', 'snorlax', 'bulbasour', 'game']      s0sh1   \n",
       "6      image/jpeg                ['bulbasaur', 'poke', 'game']      s0sh1   \n",
       "7      image/jpeg                       ['pychodelic', 'girl']      s0sh1   \n",
       "8      image/jpeg                           ['skyrim', 'game']      s0sh1   \n",
       "9       image/png                           ['skyrim', 'game']      s0sh1   \n",
       "10      image/RAW                  ['space ', 'jam', 'basket']       Galo   \n",
       "11      image/png                        ['error', 'simpsons']       Galo   \n",
       "12            NaN                                          NaN      Lauta   \n",
       "13            NaN                                          NaN  albertone   \n",
       "14            NaN                                          NaN       Nico   \n",
       "15            NaN                                          NaN      Profe   \n",
       "\n",
       "     Last_update  Height   Width               Fecha  \n",
       "0   1.583515e+09   720.0  1280.0 2020-03-06 14:21:38  \n",
       "1   1.586515e+09  1600.0  2560.0 2020-04-10 07:40:02  \n",
       "2   1.586515e+09  1024.0   768.0 2020-04-10 07:40:29  \n",
       "3   1.586515e+09  1024.0   768.0 2020-04-10 07:40:49  \n",
       "4   1.586515e+09  1024.0   768.0 2020-04-10 07:40:43  \n",
       "5   1.583515e+09  1920.0  1080.0 2020-03-06 14:22:04  \n",
       "6   1.583515e+09  1600.0   900.0 2020-03-06 14:22:09  \n",
       "7   1.583515e+09  1920.0  1080.0 2020-03-06 14:21:34  \n",
       "8   1.583515e+09  1920.0  1080.0 2020-03-06 14:21:51  \n",
       "9   1.583515e+09  1920.0  1200.0 2020-03-06 14:21:56  \n",
       "10  1.269514e+09   935.0  1681.0 2010-03-25 07:49:48  \n",
       "11  1.696516e+09   798.0   799.0 2023-10-05 11:20:33  \n",
       "12           NaN     NaN     NaN                 NaT  \n",
       "13           NaN     NaN     NaN                 NaT  \n",
       "14           NaN     NaN     NaN                 NaT  \n",
       "15           NaN     NaN     NaN                 NaT  "
      ]
     },
     "execution_count": 76,
     "metadata": {},
     "output_type": "execute_result"
    }
   ],
   "source": [
    "prom= pd.merge(dF,dF_json, on='Profile', how='outer')\n",
    "prom"
   ]
  },
  {
   "attachments": {},
   "cell_type": "markdown",
   "metadata": {},
   "source": [
    "- Creamos otro dataFrame con solamente los nicks y el espacio utilizado\n",
    "- Agrupamos por perfiles, y contamos las aparicionbes del perfil, sin eliminar las filas que tengan NaN, y resetiamos los indices\n",
    "- Por ultimo, volvemos a agrupar por perfil, sumamos las columnas, y reseteamos los indices."
   ]
  },
  {
   "cell_type": "code",
   "execution_count": 77,
   "metadata": {},
   "outputs": [
    {
     "data": {
      "text/html": [
       "<div>\n",
       "<style scoped>\n",
       "    .dataframe tbody tr th:only-of-type {\n",
       "        vertical-align: middle;\n",
       "    }\n",
       "\n",
       "    .dataframe tbody tr th {\n",
       "        vertical-align: top;\n",
       "    }\n",
       "\n",
       "    .dataframe thead th {\n",
       "        text-align: right;\n",
       "    }\n",
       "</style>\n",
       "<table border=\"1\" class=\"dataframe\">\n",
       "  <thead>\n",
       "    <tr style=\"text-align: right;\">\n",
       "      <th></th>\n",
       "      <th>Profile</th>\n",
       "      <th>Size</th>\n",
       "      <th>count</th>\n",
       "    </tr>\n",
       "  </thead>\n",
       "  <tbody>\n",
       "    <tr>\n",
       "      <th>0</th>\n",
       "      <td>Galo</td>\n",
       "      <td>629435.0</td>\n",
       "      <td>2</td>\n",
       "    </tr>\n",
       "    <tr>\n",
       "      <th>1</th>\n",
       "      <td>Lauta</td>\n",
       "      <td>0.0</td>\n",
       "      <td>1</td>\n",
       "    </tr>\n",
       "    <tr>\n",
       "      <th>2</th>\n",
       "      <td>Nico</td>\n",
       "      <td>0.0</td>\n",
       "      <td>1</td>\n",
       "    </tr>\n",
       "    <tr>\n",
       "      <th>3</th>\n",
       "      <td>Profe</td>\n",
       "      <td>0.0</td>\n",
       "      <td>1</td>\n",
       "    </tr>\n",
       "    <tr>\n",
       "      <th>4</th>\n",
       "      <td>albertone</td>\n",
       "      <td>0.0</td>\n",
       "      <td>1</td>\n",
       "    </tr>\n",
       "    <tr>\n",
       "      <th>5</th>\n",
       "      <td>s0sh1</td>\n",
       "      <td>3821993.0</td>\n",
       "      <td>10</td>\n",
       "    </tr>\n",
       "  </tbody>\n",
       "</table>\n",
       "</div>"
      ],
      "text/plain": [
       "     Profile       Size  count\n",
       "0       Galo   629435.0      2\n",
       "1      Lauta        0.0      1\n",
       "2       Nico        0.0      1\n",
       "3      Profe        0.0      1\n",
       "4  albertone        0.0      1\n",
       "5      s0sh1  3821993.0     10"
      ]
     },
     "execution_count": 77,
     "metadata": {},
     "output_type": "execute_result"
    }
   ],
   "source": [
    "dF_profiles = prom[['Profile','Size']]\n",
    "dF_profiles = dF_profiles.groupby(dF_profiles['Profile']).value_counts(dropna=False).reset_index()\n",
    "dF_profiles = dF_profiles.groupby(dF_profiles['Profile']).sum().reset_index()\n",
    "dF_profiles\n"
   ]
  },
  {
   "attachments": {},
   "cell_type": "markdown",
   "metadata": {},
   "source": [
    "- Creamos una columna Averange donde se guarda el promedio del espacio utilizado en bytes\n",
    "- Creamos una columna Averange_MB donde pasamos el valor de la columna Average a MB\n",
    "- Luego ese valor lo pasamos a string, y le sumamos la palbara 'MB'"
   ]
  },
  {
   "cell_type": "code",
   "execution_count": 78,
   "metadata": {},
   "outputs": [],
   "source": [
    "dF_profiles['Average'] = (dF_profiles['Size'] / dF_profiles['count'])\n",
    "dF_profiles['Average_MB'] = round(dF_profiles['Average'] / (1024*1024), 2)\n",
    "dF_profiles['Average_MB'] = dF_profiles['Average_MB'].astype(str)\n",
    "dF_profiles['Average_MB'] = dF_profiles['Average_MB'] + ' MB'"
   ]
  },
  {
   "attachments": {},
   "cell_type": "markdown",
   "metadata": {},
   "source": [
    "- Por ultimo creamos un dataFrame, con las columnas Profile y Averange_MB\n",
    "- Renombramos las columnas, y mostramos"
   ]
  },
  {
   "cell_type": "code",
   "execution_count": 79,
   "metadata": {},
   "outputs": [
    {
     "data": {
      "text/html": [
       "<div>\n",
       "<style scoped>\n",
       "    .dataframe tbody tr th:only-of-type {\n",
       "        vertical-align: middle;\n",
       "    }\n",
       "\n",
       "    .dataframe tbody tr th {\n",
       "        vertical-align: top;\n",
       "    }\n",
       "\n",
       "    .dataframe thead th {\n",
       "        text-align: right;\n",
       "    }\n",
       "</style>\n",
       "<table border=\"1\" class=\"dataframe\">\n",
       "  <thead>\n",
       "    <tr style=\"text-align: right;\">\n",
       "      <th></th>\n",
       "      <th>Perfil</th>\n",
       "      <th>Tamaño promedio</th>\n",
       "    </tr>\n",
       "  </thead>\n",
       "  <tbody>\n",
       "    <tr>\n",
       "      <th>0</th>\n",
       "      <td>Galo</td>\n",
       "      <td>0.3 MB</td>\n",
       "    </tr>\n",
       "    <tr>\n",
       "      <th>1</th>\n",
       "      <td>Lauta</td>\n",
       "      <td>0.0 MB</td>\n",
       "    </tr>\n",
       "    <tr>\n",
       "      <th>2</th>\n",
       "      <td>Nico</td>\n",
       "      <td>0.0 MB</td>\n",
       "    </tr>\n",
       "    <tr>\n",
       "      <th>3</th>\n",
       "      <td>Profe</td>\n",
       "      <td>0.0 MB</td>\n",
       "    </tr>\n",
       "    <tr>\n",
       "      <th>4</th>\n",
       "      <td>albertone</td>\n",
       "      <td>0.0 MB</td>\n",
       "    </tr>\n",
       "    <tr>\n",
       "      <th>5</th>\n",
       "      <td>s0sh1</td>\n",
       "      <td>0.36 MB</td>\n",
       "    </tr>\n",
       "  </tbody>\n",
       "</table>\n",
       "</div>"
      ],
      "text/plain": [
       "      Perfil Tamaño promedio\n",
       "0       Galo          0.3 MB\n",
       "1      Lauta          0.0 MB\n",
       "2       Nico          0.0 MB\n",
       "3      Profe          0.0 MB\n",
       "4  albertone          0.0 MB\n",
       "5      s0sh1         0.36 MB"
      ]
     },
     "execution_count": 79,
     "metadata": {},
     "output_type": "execute_result"
    }
   ],
   "source": [
    "dF_final = dF_profiles[['Profile','Average_MB']]\n",
    "dF_final = dF_final.rename(columns={'Profile':'Perfil','Average_MB':'Tamaño promedio'})\n",
    "dF_final"
   ]
  },
  {
   "attachments": {},
   "cell_type": "markdown",
   "metadata": {},
   "source": [
    "# Analisis de datos de log del sistema"
   ]
  },
  {
   "attachments": {},
   "cell_type": "markdown",
   "metadata": {},
   "source": [
    "## Inicializacion de librerias y DataFrames"
   ]
  },
  {
   "attachments": {},
   "cell_type": "markdown",
   "metadata": {},
   "source": [
    "- Inicializamos las librerias\n",
    "- La constate colors, con los colores que usaremos\n",
    "- Las variables con las direcciones de los archivos que utilizaremos"
   ]
  },
  {
   "cell_type": "code",
   "execution_count": 80,
   "metadata": {},
   "outputs": [],
   "source": [
    "import pandas as pd\n",
    "import matplotlib.pyplot as plt\n",
    "import os\n",
    "COLORS = [\n",
    "    '#BFEFFF',  # Lightblue\n",
    "    '#BDF5BD',  # Lightgreen\n",
    "    '#FFCACA',  # Red\n",
    "    '#FFD8A0',  # Orange\n",
    "    '#DAB8D9',  # Purple\n",
    "    '#FFFFC0',  # Yellow\n",
    "    '#C2FFFF',  # Cyan\n",
    "    '#E0E0E0',  # Black\n",
    "    '#F0E68C',  # Khaki\n",
    "    '#ADD8E6',  # Lightblue\n",
    "    '#98FB98',  # Palegreen\n",
    "    '#FFA07A',  # Lightsalmon\n",
    "    '#E6E6FA',  # Lavender\n",
    "    '#FFEC8B',  # Lightgoldenrodyellow\n",
    "]\n",
    "path_main = os.path.join(os.path.abspath('')[:-9])\n",
    "path_tagger = os.path.join(path_main, 'config','data_files','tagger.csv')\n",
    "path_profiles = os.path.join(path_main,'config','data_files','profiles.json')\n",
    "path_logs = os.path.join(path_main,'logs','logs.csv')\n"
   ]
  },
  {
   "attachments": {},
   "cell_type": "markdown",
   "metadata": {},
   "source": [
    "- Creamos el dataFrame con los datos del logs.csv"
   ]
  },
  {
   "cell_type": "code",
   "execution_count": 81,
   "metadata": {},
   "outputs": [
    {
     "data": {
      "text/html": [
       "<div>\n",
       "<style scoped>\n",
       "    .dataframe tbody tr th:only-of-type {\n",
       "        vertical-align: middle;\n",
       "    }\n",
       "\n",
       "    .dataframe tbody tr th {\n",
       "        vertical-align: top;\n",
       "    }\n",
       "\n",
       "    .dataframe thead th {\n",
       "        text-align: right;\n",
       "    }\n",
       "</style>\n",
       "<table border=\"1\" class=\"dataframe\">\n",
       "  <thead>\n",
       "    <tr style=\"text-align: right;\">\n",
       "      <th></th>\n",
       "      <th>timestamp</th>\n",
       "      <th>nick</th>\n",
       "      <th>event</th>\n",
       "      <th>value</th>\n",
       "      <th>text</th>\n",
       "    </tr>\n",
       "  </thead>\n",
       "  <tbody>\n",
       "    <tr>\n",
       "      <th>0</th>\n",
       "      <td>1269514112</td>\n",
       "      <td>Galo</td>\n",
       "      <td>profile_created</td>\n",
       "      <td>NaN</td>\n",
       "      <td>NaN</td>\n",
       "    </tr>\n",
       "    <tr>\n",
       "      <th>1</th>\n",
       "      <td>1269514138</td>\n",
       "      <td>Galo</td>\n",
       "      <td>change_config_collage_path</td>\n",
       "      <td>NaN</td>\n",
       "      <td>NaN</td>\n",
       "    </tr>\n",
       "    <tr>\n",
       "      <th>2</th>\n",
       "      <td>1269514145</td>\n",
       "      <td>Galo</td>\n",
       "      <td>new_image_classified</td>\n",
       "      <td>astronauta.jpeg</td>\n",
       "      <td>NaN</td>\n",
       "    </tr>\n",
       "    <tr>\n",
       "      <th>3</th>\n",
       "      <td>1269514154</td>\n",
       "      <td>Galo</td>\n",
       "      <td>change_tags</td>\n",
       "      <td>astronauta.jpeg</td>\n",
       "      <td>['astronauta', 'cielo']</td>\n",
       "    </tr>\n",
       "    <tr>\n",
       "      <th>4</th>\n",
       "      <td>1269514159</td>\n",
       "      <td>Galo</td>\n",
       "      <td>change_description</td>\n",
       "      <td>astronauta.jpeg</td>\n",
       "      <td>vertical</td>\n",
       "    </tr>\n",
       "  </tbody>\n",
       "</table>\n",
       "</div>"
      ],
      "text/plain": [
       "    timestamp  nick                       event            value   \n",
       "0  1269514112  Galo             profile_created              NaN  \\\n",
       "1  1269514138  Galo  change_config_collage_path              NaN   \n",
       "2  1269514145  Galo        new_image_classified  astronauta.jpeg   \n",
       "3  1269514154  Galo                 change_tags  astronauta.jpeg   \n",
       "4  1269514159  Galo          change_description  astronauta.jpeg   \n",
       "\n",
       "                      text  \n",
       "0                      NaN  \n",
       "1                      NaN  \n",
       "2                      NaN  \n",
       "3  ['astronauta', 'cielo']  \n",
       "4                 vertical  "
      ]
     },
     "execution_count": 81,
     "metadata": {},
     "output_type": "execute_result"
    }
   ],
   "source": [
    "dF_logs = pd.read_csv(path_logs)\n",
    "dF_logs.head()"
   ]
  },
  {
   "attachments": {},
   "cell_type": "markdown",
   "metadata": {},
   "source": [
    "## Grafico de barras - Uso por dia de semana"
   ]
  },
  {
   "attachments": {},
   "cell_type": "markdown",
   "metadata": {},
   "source": [
    "- Importamos la libreria datetime\n",
    "- Creamos una nueva columna con la fecha bien pareseada\n",
    "- Guardamos en variable date, la agrupacion de las fechas segun el dia de la semana, y la cantidad de veces que se repite"
   ]
  },
  {
   "cell_type": "code",
   "execution_count": 82,
   "metadata": {},
   "outputs": [],
   "source": [
    "from datetime import datetime\n",
    "dF_logs['date'] = dF_logs['timestamp'].apply(lambda x: datetime.fromtimestamp(x))\n",
    "date = dF_logs.groupby(dF_logs['date'].dt.day_of_week).size()"
   ]
  },
  {
   "attachments": {},
   "cell_type": "markdown",
   "metadata": {},
   "source": [
    "- Renombramos los indices con los respectivos nombres de los dias de la semana"
   ]
  },
  {
   "cell_type": "code",
   "execution_count": 83,
   "metadata": {},
   "outputs": [
    {
     "data": {
      "text/plain": [
       "date\n",
       "Martes        3\n",
       "Miercoles     2\n",
       "Jueves       12\n",
       "Viernes      31\n",
       "Domingo      11\n",
       "dtype: int64"
      ]
     },
     "execution_count": 83,
     "metadata": {},
     "output_type": "execute_result"
    }
   ],
   "source": [
    "date = date.rename(index={0:'Lunes',1:'Martes',2:'Miercoles',3:'Jueves',4:'Viernes',5:'Sabado',6:'Domingo'})\n",
    "date"
   ]
  },
  {
   "attachments": {},
   "cell_type": "markdown",
   "metadata": {},
   "source": [
    "- Graficamos utilizando matplotlib\n",
    "- Le agregamos un titulo, y sus etiquetas\n",
    "- Ajustamos el texto de las etiquetas para que queden rotadas, en caso que sea necesario\n",
    "- Se muestra el grafico"
   ]
  },
  {
   "cell_type": "code",
   "execution_count": 84,
   "metadata": {},
   "outputs": [
    {
     "data": {
      "image/png": "[encoded data removed]",
      "text/plain": [
       "<Figure size 640x480 with 1 Axes>"
      ]
     },
     "metadata": {},
     "output_type": "display_data"
    }
   ],
   "source": [
    "fig, ax = plt.subplots()\n",
    "ax.bar(date.index, date.values,color=COLORS)\n",
    "\n",
    "plt.title(\"Cantidad por fecha\")\n",
    "plt.xlabel(\"Fecha\")\n",
    "plt.ylabel(\"Cantidad\")\n",
    "\n",
    "plt.xticks(rotation=45, ha='right')\n",
    "\n",
    "plt.show()"
   ]
  },
  {
   "attachments": {},
   "cell_type": "markdown",
   "metadata": {},
   "source": [
    "## Grafico de Torta - Procentaje de uso de la aplicacion por generos"
   ]
  },
  {
   "attachments": {},
   "cell_type": "markdown",
   "metadata": {},
   "source": [
    "- Creamos un dataFrame con los datos del JSON de los perfiles\n",
    "- Rotamos los indices por las columnas\n",
    "- Renombramos la columna index por nick"
   ]
  },
  {
   "cell_type": "code",
   "execution_count": 85,
   "metadata": {},
   "outputs": [
    {
     "data": {
      "text/html": [
       "<div>\n",
       "<style scoped>\n",
       "    .dataframe tbody tr th:only-of-type {\n",
       "        vertical-align: middle;\n",
       "    }\n",
       "\n",
       "    .dataframe tbody tr th {\n",
       "        vertical-align: top;\n",
       "    }\n",
       "\n",
       "    .dataframe thead th {\n",
       "        text-align: right;\n",
       "    }\n",
       "</style>\n",
       "<table border=\"1\" class=\"dataframe\">\n",
       "  <thead>\n",
       "    <tr style=\"text-align: right;\">\n",
       "      <th></th>\n",
       "      <th>nick</th>\n",
       "      <th>name</th>\n",
       "      <th>age</th>\n",
       "      <th>genre</th>\n",
       "      <th>image</th>\n",
       "    </tr>\n",
       "  </thead>\n",
       "  <tbody>\n",
       "    <tr>\n",
       "      <th>0</th>\n",
       "      <td>Galo</td>\n",
       "      <td>galoA</td>\n",
       "      <td>23</td>\n",
       "      <td>Hombre</td>\n",
       "      <td>avatar_8.088867.png</td>\n",
       "    </tr>\n",
       "    <tr>\n",
       "      <th>1</th>\n",
       "      <td>Lauta</td>\n",
       "      <td>lauta</td>\n",
       "      <td>26</td>\n",
       "      <td>Otre</td>\n",
       "      <td>avatar_5.601328.png</td>\n",
       "    </tr>\n",
       "    <tr>\n",
       "      <th>2</th>\n",
       "      <td>albertone</td>\n",
       "      <td>albert</td>\n",
       "      <td>40</td>\n",
       "      <td>Mujer</td>\n",
       "      <td>avatar_0.776826.png</td>\n",
       "    </tr>\n",
       "    <tr>\n",
       "      <th>3</th>\n",
       "      <td>s0sh1</td>\n",
       "      <td>Fran</td>\n",
       "      <td>23</td>\n",
       "      <td>Hombre</td>\n",
       "      <td>avatar_3.858806.png</td>\n",
       "    </tr>\n",
       "    <tr>\n",
       "      <th>4</th>\n",
       "      <td>Nico</td>\n",
       "      <td>nico</td>\n",
       "      <td>123</td>\n",
       "      <td>Mujer</td>\n",
       "      <td>avatar_2.647236.png</td>\n",
       "    </tr>\n",
       "    <tr>\n",
       "      <th>5</th>\n",
       "      <td>Profe</td>\n",
       "      <td>Agus</td>\n",
       "      <td>22</td>\n",
       "      <td>Hombre</td>\n",
       "      <td>avatar_2.098943.png</td>\n",
       "    </tr>\n",
       "  </tbody>\n",
       "</table>\n",
       "</div>"
      ],
      "text/plain": [
       "        nick    name  age   genre                image\n",
       "0       Galo   galoA   23  Hombre  avatar_8.088867.png\n",
       "1      Lauta   lauta   26    Otre  avatar_5.601328.png\n",
       "2  albertone  albert   40   Mujer  avatar_0.776826.png\n",
       "3      s0sh1    Fran   23  Hombre  avatar_3.858806.png\n",
       "4       Nico    nico  123   Mujer  avatar_2.647236.png\n",
       "5      Profe    Agus   22  Hombre  avatar_2.098943.png"
      ]
     },
     "execution_count": 85,
     "metadata": {},
     "output_type": "execute_result"
    }
   ],
   "source": [
    "dF_profile = pd.read_json(path_profiles)\n",
    "dF_profile = dF_profile.transpose().reset_index()\n",
    "dF_profile = dF_profile.rename(columns={'index':'nick'})\n",
    "dF_profile"
   ]
  },
  {
   "attachments": {},
   "cell_type": "markdown",
   "metadata": {},
   "source": [
    "- Creamos otro data frame, quedandonos solo con la columna nick, del dataframe de los logs"
   ]
  },
  {
   "cell_type": "code",
   "execution_count": 86,
   "metadata": {},
   "outputs": [
    {
     "data": {
      "text/html": [
       "<div>\n",
       "<style scoped>\n",
       "    .dataframe tbody tr th:only-of-type {\n",
       "        vertical-align: middle;\n",
       "    }\n",
       "\n",
       "    .dataframe tbody tr th {\n",
       "        vertical-align: top;\n",
       "    }\n",
       "\n",
       "    .dataframe thead th {\n",
       "        text-align: right;\n",
       "    }\n",
       "</style>\n",
       "<table border=\"1\" class=\"dataframe\">\n",
       "  <thead>\n",
       "    <tr style=\"text-align: right;\">\n",
       "      <th></th>\n",
       "      <th>nick</th>\n",
       "    </tr>\n",
       "  </thead>\n",
       "  <tbody>\n",
       "    <tr>\n",
       "      <th>0</th>\n",
       "      <td>Galo</td>\n",
       "    </tr>\n",
       "    <tr>\n",
       "      <th>1</th>\n",
       "      <td>Galo</td>\n",
       "    </tr>\n",
       "    <tr>\n",
       "      <th>2</th>\n",
       "      <td>Galo</td>\n",
       "    </tr>\n",
       "    <tr>\n",
       "      <th>3</th>\n",
       "      <td>Galo</td>\n",
       "    </tr>\n",
       "    <tr>\n",
       "      <th>4</th>\n",
       "      <td>Galo</td>\n",
       "    </tr>\n",
       "  </tbody>\n",
       "</table>\n",
       "</div>"
      ],
      "text/plain": [
       "   nick\n",
       "0  Galo\n",
       "1  Galo\n",
       "2  Galo\n",
       "3  Galo\n",
       "4  Galo"
      ]
     },
     "execution_count": 86,
     "metadata": {},
     "output_type": "execute_result"
    }
   ],
   "source": [
    "dF_nick_log = dF_logs['nick'].to_frame()\n",
    "dF_nick_log.head()"
   ]
  },
  {
   "attachments": {},
   "cell_type": "markdown",
   "metadata": {},
   "source": [
    "- Como tenen el mismo nombre, podemos juntar los dos dataFrames con un merge, y quedarnos con la columna de genero"
   ]
  },
  {
   "cell_type": "code",
   "execution_count": 87,
   "metadata": {},
   "outputs": [
    {
     "data": {
      "text/plain": [
       "0    Hombre\n",
       "1    Hombre\n",
       "2    Hombre\n",
       "3    Hombre\n",
       "4    Hombre\n",
       "Name: genre, dtype: object"
      ]
     },
     "execution_count": 87,
     "metadata": {},
     "output_type": "execute_result"
    }
   ],
   "source": [
    "dF_merge = pd.merge(dF_nick_log,dF_profile,on='nick',how='outer')['genre']\n",
    "dF_merge.head()\n"
   ]
  },
  {
   "attachments": {},
   "cell_type": "markdown",
   "metadata": {},
   "source": [
    "- Ahora ya podemos agrupar por genero, y contar sus repeticiones\n",
    "- Renombramos la columna genre, por cant, y reseteamos los indices"
   ]
  },
  {
   "cell_type": "code",
   "execution_count": 88,
   "metadata": {},
   "outputs": [
    {
     "data": {
      "text/html": [
       "<div>\n",
       "<style scoped>\n",
       "    .dataframe tbody tr th:only-of-type {\n",
       "        vertical-align: middle;\n",
       "    }\n",
       "\n",
       "    .dataframe tbody tr th {\n",
       "        vertical-align: top;\n",
       "    }\n",
       "\n",
       "    .dataframe thead th {\n",
       "        text-align: right;\n",
       "    }\n",
       "</style>\n",
       "<table border=\"1\" class=\"dataframe\">\n",
       "  <thead>\n",
       "    <tr style=\"text-align: right;\">\n",
       "      <th></th>\n",
       "      <th>genre</th>\n",
       "      <th>cant</th>\n",
       "    </tr>\n",
       "  </thead>\n",
       "  <tbody>\n",
       "    <tr>\n",
       "      <th>0</th>\n",
       "      <td>Hombre</td>\n",
       "      <td>45</td>\n",
       "    </tr>\n",
       "    <tr>\n",
       "      <th>1</th>\n",
       "      <td>Mujer</td>\n",
       "      <td>6</td>\n",
       "    </tr>\n",
       "    <tr>\n",
       "      <th>2</th>\n",
       "      <td>Otre</td>\n",
       "      <td>8</td>\n",
       "    </tr>\n",
       "  </tbody>\n",
       "</table>\n",
       "</div>"
      ],
      "text/plain": [
       "    genre  cant\n",
       "0  Hombre    45\n",
       "1   Mujer     6\n",
       "2    Otre     8"
      ]
     },
     "execution_count": 88,
     "metadata": {},
     "output_type": "execute_result"
    }
   ],
   "source": [
    "dF_genre = dF_merge.groupby(dF_merge).size().to_frame()\n",
    "dF_genre = dF_genre.rename(columns={'genre':'cant'}).reset_index()\n",
    "dF_genre"
   ]
  },
  {
   "attachments": {},
   "cell_type": "markdown",
   "metadata": {},
   "source": [
    "- Creamos el grafico, pasandole los datos de del dataFrame, los colores de la constante COLORS, le agregamos sombras, formateamos los valores a procentajes, y que comienze con un angulo de 90 grados\n",
    "- Nos aseguramos que el grafico quede con un aspecto redondo\n",
    "- Agregamos un titulo"
   ]
  },
  {
   "cell_type": "code",
   "execution_count": 89,
   "metadata": {},
   "outputs": [
    {
     "data": {
      "image/png": "[encoded data removed]",
      "text/plain": [
       "<Figure size 640x480 with 1 Axes>"
      ]
     },
     "metadata": {},
     "output_type": "display_data"
    }
   ],
   "source": [
    "plt.pie(dF_genre['cant'], labels=dF_genre['genre'], autopct='%1.1f%%', colors=COLORS, shadow=True, startangle=90)\n",
    "plt.axis('equal')\n",
    "plt.title(\"Uso por género\")\n",
    "plt.show()"
   ]
  },
  {
   "attachments": {},
   "cell_type": "markdown",
   "metadata": {},
   "source": [
    "## Grafico de barras - Cantidades de operaciones realizadas"
   ]
  },
  {
   "attachments": {},
   "cell_type": "markdown",
   "metadata": {},
   "source": [
    "- Vamos a utilizar el dataFrame de Logs"
   ]
  },
  {
   "cell_type": "code",
   "execution_count": 90,
   "metadata": {},
   "outputs": [
    {
     "data": {
      "text/html": [
       "<div>\n",
       "<style scoped>\n",
       "    .dataframe tbody tr th:only-of-type {\n",
       "        vertical-align: middle;\n",
       "    }\n",
       "\n",
       "    .dataframe tbody tr th {\n",
       "        vertical-align: top;\n",
       "    }\n",
       "\n",
       "    .dataframe thead th {\n",
       "        text-align: right;\n",
       "    }\n",
       "</style>\n",
       "<table border=\"1\" class=\"dataframe\">\n",
       "  <thead>\n",
       "    <tr style=\"text-align: right;\">\n",
       "      <th></th>\n",
       "      <th>timestamp</th>\n",
       "      <th>nick</th>\n",
       "      <th>event</th>\n",
       "      <th>value</th>\n",
       "      <th>text</th>\n",
       "      <th>date</th>\n",
       "    </tr>\n",
       "  </thead>\n",
       "  <tbody>\n",
       "    <tr>\n",
       "      <th>0</th>\n",
       "      <td>1269514112</td>\n",
       "      <td>Galo</td>\n",
       "      <td>profile_created</td>\n",
       "      <td>NaN</td>\n",
       "      <td>NaN</td>\n",
       "      <td>2010-03-25 07:48:32</td>\n",
       "    </tr>\n",
       "    <tr>\n",
       "      <th>1</th>\n",
       "      <td>1269514138</td>\n",
       "      <td>Galo</td>\n",
       "      <td>change_config_collage_path</td>\n",
       "      <td>NaN</td>\n",
       "      <td>NaN</td>\n",
       "      <td>2010-03-25 07:48:58</td>\n",
       "    </tr>\n",
       "    <tr>\n",
       "      <th>2</th>\n",
       "      <td>1269514145</td>\n",
       "      <td>Galo</td>\n",
       "      <td>new_image_classified</td>\n",
       "      <td>astronauta.jpeg</td>\n",
       "      <td>NaN</td>\n",
       "      <td>2010-03-25 07:49:05</td>\n",
       "    </tr>\n",
       "    <tr>\n",
       "      <th>3</th>\n",
       "      <td>1269514154</td>\n",
       "      <td>Galo</td>\n",
       "      <td>change_tags</td>\n",
       "      <td>astronauta.jpeg</td>\n",
       "      <td>['astronauta', 'cielo']</td>\n",
       "      <td>2010-03-25 07:49:14</td>\n",
       "    </tr>\n",
       "    <tr>\n",
       "      <th>4</th>\n",
       "      <td>1269514159</td>\n",
       "      <td>Galo</td>\n",
       "      <td>change_description</td>\n",
       "      <td>astronauta.jpeg</td>\n",
       "      <td>vertical</td>\n",
       "      <td>2010-03-25 07:49:19</td>\n",
       "    </tr>\n",
       "  </tbody>\n",
       "</table>\n",
       "</div>"
      ],
      "text/plain": [
       "    timestamp  nick                       event            value   \n",
       "0  1269514112  Galo             profile_created              NaN  \\\n",
       "1  1269514138  Galo  change_config_collage_path              NaN   \n",
       "2  1269514145  Galo        new_image_classified  astronauta.jpeg   \n",
       "3  1269514154  Galo                 change_tags  astronauta.jpeg   \n",
       "4  1269514159  Galo          change_description  astronauta.jpeg   \n",
       "\n",
       "                      text                date  \n",
       "0                      NaN 2010-03-25 07:48:32  \n",
       "1                      NaN 2010-03-25 07:48:58  \n",
       "2                      NaN 2010-03-25 07:49:05  \n",
       "3  ['astronauta', 'cielo'] 2010-03-25 07:49:14  \n",
       "4                 vertical 2010-03-25 07:49:19  "
      ]
     },
     "execution_count": 90,
     "metadata": {},
     "output_type": "execute_result"
    }
   ],
   "source": [
    "dF_logs.head()"
   ]
  },
  {
   "attachments": {},
   "cell_type": "markdown",
   "metadata": {},
   "source": [
    "- Guardamos en cant_op la cantidad de eventos de los logs, agrupando por evento y contando las repeticiones."
   ]
  },
  {
   "cell_type": "code",
   "execution_count": 91,
   "metadata": {},
   "outputs": [
    {
     "data": {
      "text/plain": [
       "event\n",
       "change_config_collage_path     2\n",
       "change_config_image_path       3\n",
       "change_description             5\n",
       "change_tags                   19\n",
       "new_collage                    5\n",
       "new_image_classified          12\n",
       "new_meme                       3\n",
       "profile_created                6\n",
       "profile_modified               4\n",
       "Name: event, dtype: int64"
      ]
     },
     "execution_count": 91,
     "metadata": {},
     "output_type": "execute_result"
    }
   ],
   "source": [
    "cant_op = dF_logs['event'].groupby(dF_logs['event']).size()\n",
    "cant_op"
   ]
  },
  {
   "attachments": {},
   "cell_type": "markdown",
   "metadata": {},
   "source": [
    "- Creamos el grafico de barras, utilizando los colores de la constante COLORS\n",
    "- Cambiamos el fondo del grafico\n",
    "- Le agregamos titulo y etiquetas\n",
    "- Ajustamos el formato de las etiquetas a 45 grados\n",
    "- Imprimimos"
   ]
  },
  {
   "cell_type": "code",
   "execution_count": 92,
   "metadata": {},
   "outputs": [
    {
     "data": {
      "image/png": "[encoded data removed]",
      "text/plain": [
       "<Figure size 640x480 with 1 Axes>"
      ]
     },
     "metadata": {},
     "output_type": "display_data"
    }
   ],
   "source": [
    "fig, ax = plt.subplots()\n",
    "ax.bar(cant_op.index, cant_op.values,color=COLORS)\n",
    "ax.set_facecolor('whitesmoke')\n",
    "\n",
    "plt.title(\"Cantidad por operacion\")\n",
    "plt.xlabel(\"Operacion\")\n",
    "plt.ylabel(\"Cantidad\")\n",
    "\n",
    "plt.xticks(rotation=45, ha='right')\n",
    "plt.show()"
   ]
  },
  {
   "attachments": {},
   "cell_type": "markdown",
   "metadata": {},
   "source": [
    "## Grafico de barra apilado horizontal - Operaciones por nick"
   ]
  },
  {
   "attachments": {},
   "cell_type": "markdown",
   "metadata": {},
   "source": [
    "- Vamos a utlizar el dataFrame de logs"
   ]
  },
  {
   "cell_type": "code",
   "execution_count": 93,
   "metadata": {},
   "outputs": [
    {
     "data": {
      "text/html": [
       "<div>\n",
       "<style scoped>\n",
       "    .dataframe tbody tr th:only-of-type {\n",
       "        vertical-align: middle;\n",
       "    }\n",
       "\n",
       "    .dataframe tbody tr th {\n",
       "        vertical-align: top;\n",
       "    }\n",
       "\n",
       "    .dataframe thead th {\n",
       "        text-align: right;\n",
       "    }\n",
       "</style>\n",
       "<table border=\"1\" class=\"dataframe\">\n",
       "  <thead>\n",
       "    <tr style=\"text-align: right;\">\n",
       "      <th></th>\n",
       "      <th>timestamp</th>\n",
       "      <th>nick</th>\n",
       "      <th>event</th>\n",
       "      <th>value</th>\n",
       "      <th>text</th>\n",
       "      <th>date</th>\n",
       "    </tr>\n",
       "  </thead>\n",
       "  <tbody>\n",
       "    <tr>\n",
       "      <th>0</th>\n",
       "      <td>1269514112</td>\n",
       "      <td>Galo</td>\n",
       "      <td>profile_created</td>\n",
       "      <td>NaN</td>\n",
       "      <td>NaN</td>\n",
       "      <td>2010-03-25 07:48:32</td>\n",
       "    </tr>\n",
       "    <tr>\n",
       "      <th>1</th>\n",
       "      <td>1269514138</td>\n",
       "      <td>Galo</td>\n",
       "      <td>change_config_collage_path</td>\n",
       "      <td>NaN</td>\n",
       "      <td>NaN</td>\n",
       "      <td>2010-03-25 07:48:58</td>\n",
       "    </tr>\n",
       "    <tr>\n",
       "      <th>2</th>\n",
       "      <td>1269514145</td>\n",
       "      <td>Galo</td>\n",
       "      <td>new_image_classified</td>\n",
       "      <td>astronauta.jpeg</td>\n",
       "      <td>NaN</td>\n",
       "      <td>2010-03-25 07:49:05</td>\n",
       "    </tr>\n",
       "    <tr>\n",
       "      <th>3</th>\n",
       "      <td>1269514154</td>\n",
       "      <td>Galo</td>\n",
       "      <td>change_tags</td>\n",
       "      <td>astronauta.jpeg</td>\n",
       "      <td>['astronauta', 'cielo']</td>\n",
       "      <td>2010-03-25 07:49:14</td>\n",
       "    </tr>\n",
       "    <tr>\n",
       "      <th>4</th>\n",
       "      <td>1269514159</td>\n",
       "      <td>Galo</td>\n",
       "      <td>change_description</td>\n",
       "      <td>astronauta.jpeg</td>\n",
       "      <td>vertical</td>\n",
       "      <td>2010-03-25 07:49:19</td>\n",
       "    </tr>\n",
       "  </tbody>\n",
       "</table>\n",
       "</div>"
      ],
      "text/plain": [
       "    timestamp  nick                       event            value   \n",
       "0  1269514112  Galo             profile_created              NaN  \\\n",
       "1  1269514138  Galo  change_config_collage_path              NaN   \n",
       "2  1269514145  Galo        new_image_classified  astronauta.jpeg   \n",
       "3  1269514154  Galo                 change_tags  astronauta.jpeg   \n",
       "4  1269514159  Galo          change_description  astronauta.jpeg   \n",
       "\n",
       "                      text                date  \n",
       "0                      NaN 2010-03-25 07:48:32  \n",
       "1                      NaN 2010-03-25 07:48:58  \n",
       "2                      NaN 2010-03-25 07:49:05  \n",
       "3  ['astronauta', 'cielo'] 2010-03-25 07:49:14  \n",
       "4                 vertical 2010-03-25 07:49:19  "
      ]
     },
     "execution_count": 93,
     "metadata": {},
     "output_type": "execute_result"
    }
   ],
   "source": [
    "dF_logs.head()"
   ]
  },
  {
   "attachments": {},
   "cell_type": "markdown",
   "metadata": {},
   "source": [
    "- Nos quedamos con las columnas nick y event del dataframe\n",
    "- Agrupamos por nick y event, contamos repeticiones, lo volvemos dataframe y reseteamos los indices\n",
    "- Renombramos las columnas"
   ]
  },
  {
   "cell_type": "code",
   "execution_count": 94,
   "metadata": {},
   "outputs": [
    {
     "data": {
      "text/html": [
       "<div>\n",
       "<style scoped>\n",
       "    .dataframe tbody tr th:only-of-type {\n",
       "        vertical-align: middle;\n",
       "    }\n",
       "\n",
       "    .dataframe tbody tr th {\n",
       "        vertical-align: top;\n",
       "    }\n",
       "\n",
       "    .dataframe thead th {\n",
       "        text-align: right;\n",
       "    }\n",
       "</style>\n",
       "<table border=\"1\" class=\"dataframe\">\n",
       "  <thead>\n",
       "    <tr style=\"text-align: right;\">\n",
       "      <th></th>\n",
       "      <th>Nick</th>\n",
       "      <th>Operacion</th>\n",
       "      <th>cant</th>\n",
       "    </tr>\n",
       "  </thead>\n",
       "  <tbody>\n",
       "    <tr>\n",
       "      <th>0</th>\n",
       "      <td>Galo</td>\n",
       "      <td>change_config_collage_path</td>\n",
       "      <td>1</td>\n",
       "    </tr>\n",
       "    <tr>\n",
       "      <th>1</th>\n",
       "      <td>Galo</td>\n",
       "      <td>change_config_image_path</td>\n",
       "      <td>1</td>\n",
       "    </tr>\n",
       "    <tr>\n",
       "      <th>2</th>\n",
       "      <td>Galo</td>\n",
       "      <td>change_description</td>\n",
       "      <td>2</td>\n",
       "    </tr>\n",
       "    <tr>\n",
       "      <th>3</th>\n",
       "      <td>Galo</td>\n",
       "      <td>change_tags</td>\n",
       "      <td>3</td>\n",
       "    </tr>\n",
       "    <tr>\n",
       "      <th>4</th>\n",
       "      <td>Galo</td>\n",
       "      <td>new_collage</td>\n",
       "      <td>2</td>\n",
       "    </tr>\n",
       "  </tbody>\n",
       "</table>\n",
       "</div>"
      ],
      "text/plain": [
       "   Nick                   Operacion  cant\n",
       "0  Galo  change_config_collage_path     1\n",
       "1  Galo    change_config_image_path     1\n",
       "2  Galo          change_description     2\n",
       "3  Galo                 change_tags     3\n",
       "4  Galo                 new_collage     2"
      ]
     },
     "execution_count": 94,
     "metadata": {},
     "output_type": "execute_result"
    }
   ],
   "source": [
    "cant_op_nick = dF_logs[['nick','event']]\n",
    "cant_op_nick = cant_op_nick.groupby(['nick','event']).size().to_frame().reset_index()\n",
    "cant_op_nick = cant_op_nick.rename(columns={0:'cant','nick':'Nick','event':'Operacion'})\n",
    "cant_op_nick.head()"
   ]
  },
  {
   "attachments": {},
   "cell_type": "markdown",
   "metadata": {},
   "source": [
    "- Utilizamos el metodo pivot, para rotar el dataframe, poniendo como indice la columna Nick, y como columna el indice Operacion, los valores de DF seran los que estan en la columna cant. Luego reemplazamos los NaN por 0"
   ]
  },
  {
   "cell_type": "code",
   "execution_count": 95,
   "metadata": {},
   "outputs": [
    {
     "data": {
      "text/html": [
       "<div>\n",
       "<style scoped>\n",
       "    .dataframe tbody tr th:only-of-type {\n",
       "        vertical-align: middle;\n",
       "    }\n",
       "\n",
       "    .dataframe tbody tr th {\n",
       "        vertical-align: top;\n",
       "    }\n",
       "\n",
       "    .dataframe thead th {\n",
       "        text-align: right;\n",
       "    }\n",
       "</style>\n",
       "<table border=\"1\" class=\"dataframe\">\n",
       "  <thead>\n",
       "    <tr style=\"text-align: right;\">\n",
       "      <th>Operacion</th>\n",
       "      <th>change_config_collage_path</th>\n",
       "      <th>change_config_image_path</th>\n",
       "      <th>change_description</th>\n",
       "      <th>change_tags</th>\n",
       "      <th>new_collage</th>\n",
       "      <th>new_image_classified</th>\n",
       "      <th>new_meme</th>\n",
       "      <th>profile_created</th>\n",
       "      <th>profile_modified</th>\n",
       "    </tr>\n",
       "    <tr>\n",
       "      <th>Nick</th>\n",
       "      <th></th>\n",
       "      <th></th>\n",
       "      <th></th>\n",
       "      <th></th>\n",
       "      <th></th>\n",
       "      <th></th>\n",
       "      <th></th>\n",
       "      <th></th>\n",
       "      <th></th>\n",
       "    </tr>\n",
       "  </thead>\n",
       "  <tbody>\n",
       "    <tr>\n",
       "      <th>Galo</th>\n",
       "      <td>1.0</td>\n",
       "      <td>1.0</td>\n",
       "      <td>2.0</td>\n",
       "      <td>3.0</td>\n",
       "      <td>2.0</td>\n",
       "      <td>3.0</td>\n",
       "      <td>0.0</td>\n",
       "      <td>1.0</td>\n",
       "      <td>0.0</td>\n",
       "    </tr>\n",
       "    <tr>\n",
       "      <th>Lauta</th>\n",
       "      <td>1.0</td>\n",
       "      <td>0.0</td>\n",
       "      <td>0.0</td>\n",
       "      <td>1.0</td>\n",
       "      <td>0.0</td>\n",
       "      <td>0.0</td>\n",
       "      <td>3.0</td>\n",
       "      <td>1.0</td>\n",
       "      <td>2.0</td>\n",
       "    </tr>\n",
       "    <tr>\n",
       "      <th>Nico</th>\n",
       "      <td>0.0</td>\n",
       "      <td>1.0</td>\n",
       "      <td>0.0</td>\n",
       "      <td>0.0</td>\n",
       "      <td>0.0</td>\n",
       "      <td>0.0</td>\n",
       "      <td>0.0</td>\n",
       "      <td>1.0</td>\n",
       "      <td>0.0</td>\n",
       "    </tr>\n",
       "    <tr>\n",
       "      <th>Profe</th>\n",
       "      <td>0.0</td>\n",
       "      <td>0.0</td>\n",
       "      <td>0.0</td>\n",
       "      <td>0.0</td>\n",
       "      <td>0.0</td>\n",
       "      <td>0.0</td>\n",
       "      <td>0.0</td>\n",
       "      <td>1.0</td>\n",
       "      <td>1.0</td>\n",
       "    </tr>\n",
       "    <tr>\n",
       "      <th>albertone</th>\n",
       "      <td>0.0</td>\n",
       "      <td>1.0</td>\n",
       "      <td>0.0</td>\n",
       "      <td>0.0</td>\n",
       "      <td>1.0</td>\n",
       "      <td>0.0</td>\n",
       "      <td>0.0</td>\n",
       "      <td>1.0</td>\n",
       "      <td>1.0</td>\n",
       "    </tr>\n",
       "  </tbody>\n",
       "</table>\n",
       "</div>"
      ],
      "text/plain": [
       "Operacion  change_config_collage_path  change_config_image_path   \n",
       "Nick                                                              \n",
       "Galo                              1.0                       1.0  \\\n",
       "Lauta                             1.0                       0.0   \n",
       "Nico                              0.0                       1.0   \n",
       "Profe                             0.0                       0.0   \n",
       "albertone                         0.0                       1.0   \n",
       "\n",
       "Operacion  change_description  change_tags  new_collage  new_image_classified   \n",
       "Nick                                                                            \n",
       "Galo                      2.0          3.0          2.0                   3.0  \\\n",
       "Lauta                     0.0          1.0          0.0                   0.0   \n",
       "Nico                      0.0          0.0          0.0                   0.0   \n",
       "Profe                     0.0          0.0          0.0                   0.0   \n",
       "albertone                 0.0          0.0          1.0                   0.0   \n",
       "\n",
       "Operacion  new_meme  profile_created  profile_modified  \n",
       "Nick                                                    \n",
       "Galo            0.0              1.0               0.0  \n",
       "Lauta           3.0              1.0               2.0  \n",
       "Nico            0.0              1.0               0.0  \n",
       "Profe           0.0              1.0               1.0  \n",
       "albertone       0.0              1.0               1.0  "
      ]
     },
     "execution_count": 95,
     "metadata": {},
     "output_type": "execute_result"
    }
   ],
   "source": [
    "df_pivot = cant_op_nick.pivot(index='Nick',columns='Operacion', values='cant').fillna(0)\n",
    "df_pivot.head()"
   ]
  },
  {
   "attachments": {},
   "cell_type": "markdown",
   "metadata": {},
   "source": [
    "- Graficamos, poniendo titulo, especificando que hay que stackear los valores, y usando los colores de la constante COLORS."
   ]
  },
  {
   "cell_type": "code",
   "execution_count": 96,
   "metadata": {},
   "outputs": [
    {
     "data": {
      "image/png": "[encoded data removed]",
      "text/plain": [
       "<Figure size 640x480 with 1 Axes>"
      ]
     },
     "metadata": {},
     "output_type": "display_data"
    }
   ],
   "source": [
    "df_pivot.plot.barh(stacked=True, title='Operaciones por nick', color=COLORS)\n",
    "plt.show()"
   ]
  },
  {
   "attachments": {},
   "cell_type": "markdown",
   "metadata": {},
   "source": [
    "## DataFrame - Ranking de meme y collage"
   ]
  },
  {
   "attachments": {},
   "cell_type": "markdown",
   "metadata": {},
   "source": [
    "- Nos quedamos con las columnas de event y value del DataFrame de logs\n",
    "- Guardamos en new_meme, solo las filas que tengan en evento new_meme\n",
    "- Agrupamos los eventos y contamos las repeticiones\n",
    "- Ordenamos de manera descendente, y lo transformamos en DataFrame\n",
    "- Renombramos la columna value, reseteamos los indices y remobramos la otra columna value\n",
    "- Nos quedamos con los 5 primeros"
   ]
  },
  {
   "cell_type": "code",
   "execution_count": 97,
   "metadata": {},
   "outputs": [
    {
     "data": {
      "text/html": [
       "<div>\n",
       "<style scoped>\n",
       "    .dataframe tbody tr th:only-of-type {\n",
       "        vertical-align: middle;\n",
       "    }\n",
       "\n",
       "    .dataframe tbody tr th {\n",
       "        vertical-align: top;\n",
       "    }\n",
       "\n",
       "    .dataframe thead th {\n",
       "        text-align: right;\n",
       "    }\n",
       "</style>\n",
       "<table border=\"1\" class=\"dataframe\">\n",
       "  <thead>\n",
       "    <tr style=\"text-align: right;\">\n",
       "      <th></th>\n",
       "      <th>Imagen</th>\n",
       "      <th>Usos</th>\n",
       "    </tr>\n",
       "  </thead>\n",
       "  <tbody>\n",
       "    <tr>\n",
       "      <th>0</th>\n",
       "      <td>bob_sponge.png</td>\n",
       "      <td>2</td>\n",
       "    </tr>\n",
       "    <tr>\n",
       "      <th>1</th>\n",
       "      <td>car.png</td>\n",
       "      <td>1</td>\n",
       "    </tr>\n",
       "  </tbody>\n",
       "</table>\n",
       "</div>"
      ],
      "text/plain": [
       "           Imagen  Usos\n",
       "0  bob_sponge.png     2\n",
       "1         car.png     1"
      ]
     },
     "execution_count": 97,
     "metadata": {},
     "output_type": "execute_result"
    }
   ],
   "source": [
    "logs_events = dF_logs[['event','value']]\n",
    "new_meme = logs_events.loc[logs_events['event'] == 'new_meme', 'value']\n",
    "new_meme = new_meme.groupby(new_meme).count()\n",
    "new_meme = new_meme.sort_values(ascending=False).to_frame()\n",
    "new_meme = new_meme.rename(columns={'value': 'Usos'}).reset_index().rename(columns={'value': 'Imagen'})\n",
    "new_meme = new_meme.head(5)\n",
    "new_meme\n"
   ]
  },
  {
   "attachments": {},
   "cell_type": "markdown",
   "metadata": {},
   "source": [
    "- Creamos un DataFrame con las columans de event y value de dF_logs\n",
    "- Solo guardamos los eventos que sean new_collage, lo transformamos a data frame\n",
    "- Spliteamos los valores por comnas, le sacamos las corchetes de inicio y final\n",
    "- Transformamos esa lista str, a una fila individual por elemento"
   ]
  },
  {
   "cell_type": "code",
   "execution_count": 98,
   "metadata": {},
   "outputs": [
    {
     "data": {
      "text/plain": [
       "8                  'astronauta.jpeg'\n",
       "8                  'Laprovitola.raw'\n",
       "46               'gato cubanito.svg'\n",
       "46          'gatito sorprendido.bmp'\n",
       "46    'gatito sacando la lengua.png'\n",
       "47                     'snorlax.png'\n",
       "47                       'bulba.jpg'\n",
       "48             'Skyrim Mountain.jpg'\n",
       "48               'skyrim mamuts.png'\n",
       "57                       'error.png'\n",
       "57                       'error.png'\n",
       "Name: value, dtype: object"
      ]
     },
     "execution_count": 98,
     "metadata": {},
     "output_type": "execute_result"
    }
   ],
   "source": [
    "logs_events = dF_logs[['event','value']]\n",
    "new_collage = logs_events.loc[logs_events['event'] == 'new_collage', 'value'].to_frame()\n",
    "new_collage = new_collage['value'].str[1:-1].str.split(', ')\n",
    "new_collage = new_collage.explode()\n",
    "new_collage"
   ]
  },
  {
   "attachments": {},
   "cell_type": "markdown",
   "metadata": {},
   "source": [
    "- Agrupamos por los mismo valores, y contamos sus repeticiones\n",
    "- Ordenamos de manera descendete, y lo convertimos en DataFrame\n",
    "- Renombramos las columas value\n",
    "- Nos quedamos con los primeros 5"
   ]
  },
  {
   "cell_type": "code",
   "execution_count": 99,
   "metadata": {},
   "outputs": [
    {
     "data": {
      "text/html": [
       "<div>\n",
       "<style scoped>\n",
       "    .dataframe tbody tr th:only-of-type {\n",
       "        vertical-align: middle;\n",
       "    }\n",
       "\n",
       "    .dataframe tbody tr th {\n",
       "        vertical-align: top;\n",
       "    }\n",
       "\n",
       "    .dataframe thead th {\n",
       "        text-align: right;\n",
       "    }\n",
       "</style>\n",
       "<table border=\"1\" class=\"dataframe\">\n",
       "  <thead>\n",
       "    <tr style=\"text-align: right;\">\n",
       "      <th></th>\n",
       "      <th>Imagen</th>\n",
       "      <th>Usos</th>\n",
       "    </tr>\n",
       "  </thead>\n",
       "  <tbody>\n",
       "    <tr>\n",
       "      <th>0</th>\n",
       "      <td>'error.png'</td>\n",
       "      <td>2</td>\n",
       "    </tr>\n",
       "    <tr>\n",
       "      <th>1</th>\n",
       "      <td>'Laprovitola.raw'</td>\n",
       "      <td>1</td>\n",
       "    </tr>\n",
       "    <tr>\n",
       "      <th>2</th>\n",
       "      <td>'Skyrim Mountain.jpg'</td>\n",
       "      <td>1</td>\n",
       "    </tr>\n",
       "    <tr>\n",
       "      <th>3</th>\n",
       "      <td>'astronauta.jpeg'</td>\n",
       "      <td>1</td>\n",
       "    </tr>\n",
       "    <tr>\n",
       "      <th>4</th>\n",
       "      <td>'bulba.jpg'</td>\n",
       "      <td>1</td>\n",
       "    </tr>\n",
       "  </tbody>\n",
       "</table>\n",
       "</div>"
      ],
      "text/plain": [
       "                  Imagen  Usos\n",
       "0            'error.png'     2\n",
       "1      'Laprovitola.raw'     1\n",
       "2  'Skyrim Mountain.jpg'     1\n",
       "3      'astronauta.jpeg'     1\n",
       "4            'bulba.jpg'     1"
      ]
     },
     "execution_count": 99,
     "metadata": {},
     "output_type": "execute_result"
    }
   ],
   "source": [
    "new_collage = new_collage.groupby(new_collage).count()\n",
    "new_collage = new_collage.sort_values(ascending=False).to_frame()\n",
    "new_collage = new_collage.rename(columns={'value': 'Usos'}).reset_index().rename(columns={'value': 'Imagen'})\n",
    "new_collage = new_collage.head(5)\n",
    "new_collage"
   ]
  },
  {
   "attachments": {},
   "cell_type": "markdown",
   "metadata": {},
   "source": [
    "## Nubes de palabras - Textos de memes y collages"
   ]
  },
  {
   "attachments": {},
   "cell_type": "markdown",
   "metadata": {},
   "source": [
    "- Utilizaremos las columnas de event y text del dataFrame dF_logs"
   ]
  },
  {
   "cell_type": "code",
   "execution_count": 100,
   "metadata": {},
   "outputs": [
    {
     "data": {
      "text/html": [
       "<div>\n",
       "<style scoped>\n",
       "    .dataframe tbody tr th:only-of-type {\n",
       "        vertical-align: middle;\n",
       "    }\n",
       "\n",
       "    .dataframe tbody tr th {\n",
       "        vertical-align: top;\n",
       "    }\n",
       "\n",
       "    .dataframe thead th {\n",
       "        text-align: right;\n",
       "    }\n",
       "</style>\n",
       "<table border=\"1\" class=\"dataframe\">\n",
       "  <thead>\n",
       "    <tr style=\"text-align: right;\">\n",
       "      <th></th>\n",
       "      <th>event</th>\n",
       "      <th>text</th>\n",
       "    </tr>\n",
       "  </thead>\n",
       "  <tbody>\n",
       "    <tr>\n",
       "      <th>0</th>\n",
       "      <td>profile_created</td>\n",
       "      <td>NaN</td>\n",
       "    </tr>\n",
       "    <tr>\n",
       "      <th>1</th>\n",
       "      <td>change_config_collage_path</td>\n",
       "      <td>NaN</td>\n",
       "    </tr>\n",
       "    <tr>\n",
       "      <th>2</th>\n",
       "      <td>new_image_classified</td>\n",
       "      <td>NaN</td>\n",
       "    </tr>\n",
       "    <tr>\n",
       "      <th>3</th>\n",
       "      <td>change_tags</td>\n",
       "      <td>['astronauta', 'cielo']</td>\n",
       "    </tr>\n",
       "    <tr>\n",
       "      <th>4</th>\n",
       "      <td>change_description</td>\n",
       "      <td>vertical</td>\n",
       "    </tr>\n",
       "  </tbody>\n",
       "</table>\n",
       "</div>"
      ],
      "text/plain": [
       "                        event                     text\n",
       "0             profile_created                      NaN\n",
       "1  change_config_collage_path                      NaN\n",
       "2        new_image_classified                      NaN\n",
       "3                 change_tags  ['astronauta', 'cielo']\n",
       "4          change_description                 vertical"
      ]
     },
     "execution_count": 100,
     "metadata": {},
     "output_type": "execute_result"
    }
   ],
   "source": [
    "dF_logs[['event','text']].head()"
   ]
  },
  {
   "attachments": {},
   "cell_type": "markdown",
   "metadata": {},
   "source": [
    "### Texto de memes"
   ]
  },
  {
   "attachments": {},
   "cell_type": "markdown",
   "metadata": {},
   "source": [
    "- Nos quedamos solo con los eventos que sean 'new_meme', y lo convertimos en dataframe"
   ]
  },
  {
   "cell_type": "code",
   "execution_count": 101,
   "metadata": {},
   "outputs": [
    {
     "data": {
      "text/html": [
       "<div>\n",
       "<style scoped>\n",
       "    .dataframe tbody tr th:only-of-type {\n",
       "        vertical-align: middle;\n",
       "    }\n",
       "\n",
       "    .dataframe tbody tr th {\n",
       "        vertical-align: top;\n",
       "    }\n",
       "\n",
       "    .dataframe thead th {\n",
       "        text-align: right;\n",
       "    }\n",
       "</style>\n",
       "<table border=\"1\" class=\"dataframe\">\n",
       "  <thead>\n",
       "    <tr style=\"text-align: right;\">\n",
       "      <th></th>\n",
       "      <th>text</th>\n",
       "    </tr>\n",
       "  </thead>\n",
       "  <tbody>\n",
       "    <tr>\n",
       "      <th>13</th>\n",
       "      <td>['recuerda realizar comentarios respetuosos']</td>\n",
       "    </tr>\n",
       "    <tr>\n",
       "      <th>14</th>\n",
       "      <td>['meme prueba 1']</td>\n",
       "    </tr>\n",
       "    <tr>\n",
       "      <th>15</th>\n",
       "      <td>['seguir con la carrera', 'terminar trabajando...</td>\n",
       "    </tr>\n",
       "  </tbody>\n",
       "</table>\n",
       "</div>"
      ],
      "text/plain": [
       "                                                 text\n",
       "13      ['recuerda realizar comentarios respetuosos']\n",
       "14                                  ['meme prueba 1']\n",
       "15  ['seguir con la carrera', 'terminar trabajando..."
      ]
     },
     "execution_count": 101,
     "metadata": {},
     "output_type": "execute_result"
    }
   ],
   "source": [
    "meme_text = dF_logs[['event','text']].loc[logs_events['event'] == 'new_meme', 'text'].to_frame()\n",
    "meme_text"
   ]
  },
  {
   "attachments": {},
   "cell_type": "markdown",
   "metadata": {},
   "source": [
    "- Hacemos un slicing, eliminando los corchetes, y eliminamos las comillas simples y comas, y lo dividimos en una lista de acuerdo a los espacios\n",
    "- Luego, transformamos esos elementos de la lista, a filas del dataframe, y los guardamos en la columna text"
   ]
  },
  {
   "cell_type": "code",
   "execution_count": 102,
   "metadata": {},
   "outputs": [
    {
     "data": {
      "text/html": [
       "<div>\n",
       "<style scoped>\n",
       "    .dataframe tbody tr th:only-of-type {\n",
       "        vertical-align: middle;\n",
       "    }\n",
       "\n",
       "    .dataframe tbody tr th {\n",
       "        vertical-align: top;\n",
       "    }\n",
       "\n",
       "    .dataframe thead th {\n",
       "        text-align: right;\n",
       "    }\n",
       "</style>\n",
       "<table border=\"1\" class=\"dataframe\">\n",
       "  <thead>\n",
       "    <tr style=\"text-align: right;\">\n",
       "      <th></th>\n",
       "      <th>text</th>\n",
       "    </tr>\n",
       "  </thead>\n",
       "  <tbody>\n",
       "    <tr>\n",
       "      <th>13</th>\n",
       "      <td>recuerda</td>\n",
       "    </tr>\n",
       "    <tr>\n",
       "      <th>13</th>\n",
       "      <td>realizar</td>\n",
       "    </tr>\n",
       "    <tr>\n",
       "      <th>13</th>\n",
       "      <td>comentarios</td>\n",
       "    </tr>\n",
       "    <tr>\n",
       "      <th>13</th>\n",
       "      <td>respetuosos</td>\n",
       "    </tr>\n",
       "    <tr>\n",
       "      <th>14</th>\n",
       "      <td>meme</td>\n",
       "    </tr>\n",
       "    <tr>\n",
       "      <th>14</th>\n",
       "      <td>prueba</td>\n",
       "    </tr>\n",
       "    <tr>\n",
       "      <th>14</th>\n",
       "      <td>1</td>\n",
       "    </tr>\n",
       "    <tr>\n",
       "      <th>15</th>\n",
       "      <td>seguir</td>\n",
       "    </tr>\n",
       "    <tr>\n",
       "      <th>15</th>\n",
       "      <td>con</td>\n",
       "    </tr>\n",
       "    <tr>\n",
       "      <th>15</th>\n",
       "      <td>la</td>\n",
       "    </tr>\n",
       "    <tr>\n",
       "      <th>15</th>\n",
       "      <td>carrera</td>\n",
       "    </tr>\n",
       "    <tr>\n",
       "      <th>15</th>\n",
       "      <td>terminar</td>\n",
       "    </tr>\n",
       "    <tr>\n",
       "      <th>15</th>\n",
       "      <td>trabajando</td>\n",
       "    </tr>\n",
       "    <tr>\n",
       "      <th>15</th>\n",
       "      <td>en</td>\n",
       "    </tr>\n",
       "    <tr>\n",
       "      <th>15</th>\n",
       "      <td>mcdonals</td>\n",
       "    </tr>\n",
       "    <tr>\n",
       "      <th>15</th>\n",
       "      <td>yo</td>\n",
       "    </tr>\n",
       "  </tbody>\n",
       "</table>\n",
       "</div>"
      ],
      "text/plain": [
       "           text\n",
       "13     recuerda\n",
       "13     realizar\n",
       "13  comentarios\n",
       "13  respetuosos\n",
       "14         meme\n",
       "14       prueba\n",
       "14            1\n",
       "15       seguir\n",
       "15          con\n",
       "15           la\n",
       "15      carrera\n",
       "15     terminar\n",
       "15   trabajando\n",
       "15           en\n",
       "15     mcdonals\n",
       "15           yo"
      ]
     },
     "execution_count": 102,
     "metadata": {},
     "output_type": "execute_result"
    }
   ],
   "source": [
    "meme_text['text'] = meme_text['text'].str[1:-1].str.replace(\"'\",\"\").str.replace(\",\",\"\").str.split(' ')\n",
    "meme_text = meme_text.explode(column='text')\n",
    "meme_text"
   ]
  },
  {
   "attachments": {},
   "cell_type": "markdown",
   "metadata": {},
   "source": [
    "- Agrupamos estas palabras, y contamos la cantidad de repeticiones "
   ]
  },
  {
   "cell_type": "code",
   "execution_count": 103,
   "metadata": {},
   "outputs": [],
   "source": [
    "meme_text = meme_text.groupby(['text']).size()"
   ]
  },
  {
   "attachments": {},
   "cell_type": "markdown",
   "metadata": {},
   "source": [
    "- Por ultimo, utilizamos la libreria wordcloud para graficar, usando los parametros del color de fondo, el color del contorno, y un mapeo de color a la nube."
   ]
  },
  {
   "cell_type": "code",
   "execution_count": 104,
   "metadata": {},
   "outputs": [
    {
     "data": {
      "image/png": "[encoded data removed]",
      "text/plain": [
       "<Figure size 640x480 with 1 Axes>"
      ]
     },
     "metadata": {},
     "output_type": "display_data"
    }
   ],
   "source": [
    "from wordcloud import WordCloud\n",
    "wordcloud = WordCloud(background_color=\"black\", contour_color='steelblue', colormap='Pastel1')\n",
    "wordcloud.generate_from_frequencies(meme_text)\n",
    "\n",
    "plt.imshow(wordcloud, interpolation='bilinear')\n",
    "plt.axis('off')\n",
    "plt.show()"
   ]
  },
  {
   "attachments": {},
   "cell_type": "markdown",
   "metadata": {},
   "source": [
    "### Texto de Collages"
   ]
  },
  {
   "attachments": {},
   "cell_type": "markdown",
   "metadata": {},
   "source": [
    "- Nos quedamos solo con los eventos que sean 'new_collage', y lo convertimos en dataframe"
   ]
  },
  {
   "cell_type": "code",
   "execution_count": 105,
   "metadata": {},
   "outputs": [
    {
     "data": {
      "text/html": [
       "<div>\n",
       "<style scoped>\n",
       "    .dataframe tbody tr th:only-of-type {\n",
       "        vertical-align: middle;\n",
       "    }\n",
       "\n",
       "    .dataframe tbody tr th {\n",
       "        vertical-align: top;\n",
       "    }\n",
       "\n",
       "    .dataframe thead th {\n",
       "        text-align: right;\n",
       "    }\n",
       "</style>\n",
       "<table border=\"1\" class=\"dataframe\">\n",
       "  <thead>\n",
       "    <tr style=\"text-align: right;\">\n",
       "      <th></th>\n",
       "      <th>text</th>\n",
       "    </tr>\n",
       "  </thead>\n",
       "  <tbody>\n",
       "    <tr>\n",
       "      <th>8</th>\n",
       "      <td>to the space</td>\n",
       "    </tr>\n",
       "    <tr>\n",
       "      <th>46</th>\n",
       "      <td>cats</td>\n",
       "    </tr>\n",
       "    <tr>\n",
       "      <th>47</th>\n",
       "      <td>pokemon</td>\n",
       "    </tr>\n",
       "    <tr>\n",
       "      <th>48</th>\n",
       "      <td>elder scrol</td>\n",
       "    </tr>\n",
       "    <tr>\n",
       "      <th>57</th>\n",
       "      <td>error.png</td>\n",
       "    </tr>\n",
       "  </tbody>\n",
       "</table>\n",
       "</div>"
      ],
      "text/plain": [
       "            text\n",
       "8   to the space\n",
       "46          cats\n",
       "47       pokemon\n",
       "48   elder scrol\n",
       "57     error.png"
      ]
     },
     "execution_count": 105,
     "metadata": {},
     "output_type": "execute_result"
    }
   ],
   "source": [
    "collage_text = dF_logs[['event','text']].loc[logs_events['event'] == 'new_collage', 'text'].to_frame()\n",
    "collage_text"
   ]
  },
  {
   "attachments": {},
   "cell_type": "markdown",
   "metadata": {},
   "source": [
    "- Dividimos las palabras en una lista de acuerdo a los espacios\n",
    "- Luego, transformamos esos elementos de la lista, a filas del dataframe, y los guardamos en la columna text"
   ]
  },
  {
   "cell_type": "code",
   "execution_count": 106,
   "metadata": {},
   "outputs": [
    {
     "data": {
      "text/html": [
       "<div>\n",
       "<style scoped>\n",
       "    .dataframe tbody tr th:only-of-type {\n",
       "        vertical-align: middle;\n",
       "    }\n",
       "\n",
       "    .dataframe tbody tr th {\n",
       "        vertical-align: top;\n",
       "    }\n",
       "\n",
       "    .dataframe thead th {\n",
       "        text-align: right;\n",
       "    }\n",
       "</style>\n",
       "<table border=\"1\" class=\"dataframe\">\n",
       "  <thead>\n",
       "    <tr style=\"text-align: right;\">\n",
       "      <th></th>\n",
       "      <th>text</th>\n",
       "    </tr>\n",
       "  </thead>\n",
       "  <tbody>\n",
       "    <tr>\n",
       "      <th>8</th>\n",
       "      <td>to</td>\n",
       "    </tr>\n",
       "    <tr>\n",
       "      <th>8</th>\n",
       "      <td>the</td>\n",
       "    </tr>\n",
       "    <tr>\n",
       "      <th>8</th>\n",
       "      <td>space</td>\n",
       "    </tr>\n",
       "    <tr>\n",
       "      <th>46</th>\n",
       "      <td>cats</td>\n",
       "    </tr>\n",
       "    <tr>\n",
       "      <th>47</th>\n",
       "      <td>pokemon</td>\n",
       "    </tr>\n",
       "    <tr>\n",
       "      <th>48</th>\n",
       "      <td>elder</td>\n",
       "    </tr>\n",
       "    <tr>\n",
       "      <th>48</th>\n",
       "      <td>scrol</td>\n",
       "    </tr>\n",
       "    <tr>\n",
       "      <th>57</th>\n",
       "      <td>error.png</td>\n",
       "    </tr>\n",
       "  </tbody>\n",
       "</table>\n",
       "</div>"
      ],
      "text/plain": [
       "         text\n",
       "8          to\n",
       "8         the\n",
       "8       space\n",
       "46       cats\n",
       "47    pokemon\n",
       "48      elder\n",
       "48      scrol\n",
       "57  error.png"
      ]
     },
     "execution_count": 106,
     "metadata": {},
     "output_type": "execute_result"
    }
   ],
   "source": [
    "collage_text['text'] = collage_text['text'].str.split(' ')\n",
    "collage_text = collage_text.explode(column='text')\n",
    "collage_text"
   ]
  },
  {
   "attachments": {},
   "cell_type": "markdown",
   "metadata": {},
   "source": [
    "- Agrupamos estas palabras, y contamos la cantidad de repeticiones "
   ]
  },
  {
   "cell_type": "code",
   "execution_count": 107,
   "metadata": {},
   "outputs": [],
   "source": [
    "collage_text = collage_text.groupby(['text']).size()"
   ]
  },
  {
   "attachments": {},
   "cell_type": "markdown",
   "metadata": {},
   "source": [
    "- Por ultimo, utilizamos la libreria wordcloud para graficar, usando los parametros del color de fondo, el color del contorno, y un mapeo de color a la nube."
   ]
  },
  {
   "cell_type": "code",
   "execution_count": 108,
   "metadata": {},
   "outputs": [
    {
     "data": {
      "image/png": "[encoded data removed]",
      "text/plain": [
       "<Figure size 640x480 with 1 Axes>"
      ]
     },
     "metadata": {},
     "output_type": "display_data"
    }
   ],
   "source": [
    "from wordcloud import WordCloud\n",
    "wordcloud = WordCloud(background_color=\"black\", contour_color='steelblue', colormap='Pastel1')\n",
    "wordcloud.generate_from_frequencies(collage_text)\n",
    "\n",
    "plt.imshow(wordcloud, interpolation='bilinear')\n",
    "plt.axis('off')\n",
    "plt.show()"
   ]
  },
  {
   "attachments": {},
   "cell_type": "markdown",
   "metadata": {},
   "source": [
    "## Grafico de torta - Operaciones por genero"
   ]
  },
  {
   "attachments": {},
   "cell_type": "markdown",
   "metadata": {},
   "source": [
    "- Nos quedamos con las columans de nick y event\n",
    "- Renombramos la columna nick por Nick"
   ]
  },
  {
   "cell_type": "code",
   "execution_count": 109,
   "metadata": {},
   "outputs": [
    {
     "data": {
      "text/html": [
       "<div>\n",
       "<style scoped>\n",
       "    .dataframe tbody tr th:only-of-type {\n",
       "        vertical-align: middle;\n",
       "    }\n",
       "\n",
       "    .dataframe tbody tr th {\n",
       "        vertical-align: top;\n",
       "    }\n",
       "\n",
       "    .dataframe thead th {\n",
       "        text-align: right;\n",
       "    }\n",
       "</style>\n",
       "<table border=\"1\" class=\"dataframe\">\n",
       "  <thead>\n",
       "    <tr style=\"text-align: right;\">\n",
       "      <th></th>\n",
       "      <th>nick</th>\n",
       "      <th>event</th>\n",
       "    </tr>\n",
       "  </thead>\n",
       "  <tbody>\n",
       "    <tr>\n",
       "      <th>0</th>\n",
       "      <td>Galo</td>\n",
       "      <td>profile_created</td>\n",
       "    </tr>\n",
       "    <tr>\n",
       "      <th>1</th>\n",
       "      <td>Galo</td>\n",
       "      <td>change_config_collage_path</td>\n",
       "    </tr>\n",
       "    <tr>\n",
       "      <th>2</th>\n",
       "      <td>Galo</td>\n",
       "      <td>new_image_classified</td>\n",
       "    </tr>\n",
       "    <tr>\n",
       "      <th>3</th>\n",
       "      <td>Galo</td>\n",
       "      <td>change_tags</td>\n",
       "    </tr>\n",
       "    <tr>\n",
       "      <th>4</th>\n",
       "      <td>Galo</td>\n",
       "      <td>change_description</td>\n",
       "    </tr>\n",
       "  </tbody>\n",
       "</table>\n",
       "</div>"
      ],
      "text/plain": [
       "   nick                       event\n",
       "0  Galo             profile_created\n",
       "1  Galo  change_config_collage_path\n",
       "2  Galo        new_image_classified\n",
       "3  Galo                 change_tags\n",
       "4  Galo          change_description"
      ]
     },
     "execution_count": 109,
     "metadata": {},
     "output_type": "execute_result"
    }
   ],
   "source": [
    "cant_op_nick = dF_logs[['nick','event']]\n",
    "cant_op_nick = cant_op_nick.rename(columns={'Nick':'nick'})\n",
    "cant_op_nick.head()"
   ]
  },
  {
   "attachments": {},
   "cell_type": "markdown",
   "metadata": {},
   "source": [
    "- Vamos a utilizar el dataframe de los perfiles"
   ]
  },
  {
   "cell_type": "code",
   "execution_count": 110,
   "metadata": {},
   "outputs": [
    {
     "data": {
      "text/html": [
       "<div>\n",
       "<style scoped>\n",
       "    .dataframe tbody tr th:only-of-type {\n",
       "        vertical-align: middle;\n",
       "    }\n",
       "\n",
       "    .dataframe tbody tr th {\n",
       "        vertical-align: top;\n",
       "    }\n",
       "\n",
       "    .dataframe thead th {\n",
       "        text-align: right;\n",
       "    }\n",
       "</style>\n",
       "<table border=\"1\" class=\"dataframe\">\n",
       "  <thead>\n",
       "    <tr style=\"text-align: right;\">\n",
       "      <th></th>\n",
       "      <th>nick</th>\n",
       "      <th>name</th>\n",
       "      <th>age</th>\n",
       "      <th>genre</th>\n",
       "      <th>image</th>\n",
       "    </tr>\n",
       "  </thead>\n",
       "  <tbody>\n",
       "    <tr>\n",
       "      <th>0</th>\n",
       "      <td>Galo</td>\n",
       "      <td>galoA</td>\n",
       "      <td>23</td>\n",
       "      <td>Hombre</td>\n",
       "      <td>avatar_8.088867.png</td>\n",
       "    </tr>\n",
       "    <tr>\n",
       "      <th>1</th>\n",
       "      <td>Lauta</td>\n",
       "      <td>lauta</td>\n",
       "      <td>26</td>\n",
       "      <td>Otre</td>\n",
       "      <td>avatar_5.601328.png</td>\n",
       "    </tr>\n",
       "    <tr>\n",
       "      <th>2</th>\n",
       "      <td>albertone</td>\n",
       "      <td>albert</td>\n",
       "      <td>40</td>\n",
       "      <td>Mujer</td>\n",
       "      <td>avatar_0.776826.png</td>\n",
       "    </tr>\n",
       "    <tr>\n",
       "      <th>3</th>\n",
       "      <td>s0sh1</td>\n",
       "      <td>Fran</td>\n",
       "      <td>23</td>\n",
       "      <td>Hombre</td>\n",
       "      <td>avatar_3.858806.png</td>\n",
       "    </tr>\n",
       "    <tr>\n",
       "      <th>4</th>\n",
       "      <td>Nico</td>\n",
       "      <td>nico</td>\n",
       "      <td>123</td>\n",
       "      <td>Mujer</td>\n",
       "      <td>avatar_2.647236.png</td>\n",
       "    </tr>\n",
       "  </tbody>\n",
       "</table>\n",
       "</div>"
      ],
      "text/plain": [
       "        nick    name  age   genre                image\n",
       "0       Galo   galoA   23  Hombre  avatar_8.088867.png\n",
       "1      Lauta   lauta   26    Otre  avatar_5.601328.png\n",
       "2  albertone  albert   40   Mujer  avatar_0.776826.png\n",
       "3      s0sh1    Fran   23  Hombre  avatar_3.858806.png\n",
       "4       Nico    nico  123   Mujer  avatar_2.647236.png"
      ]
     },
     "execution_count": 110,
     "metadata": {},
     "output_type": "execute_result"
    }
   ],
   "source": [
    "dF_profile.head()"
   ]
  },
  {
   "attachments": {},
   "cell_type": "markdown",
   "metadata": {},
   "source": [
    "- Realizamos un merge de acuerdo a la columna nick, agregando la columna gerne al dataframe cant_op_nick y realizamos slicing por columnas genre y event\n",
    "- Dejamos solamente en la columna event, los eventos que sean change_tags, ne_image_classified, y change_description\n",
    "- Quitamos las filas que contengan NaN\n",
    "- Agrupamos segun genero y luego evento, contamos las repeticiones, lo transformamos a dataframe y reseteamos los indices\n",
    "- Concadenamos los valores de las columnas a una sola columna\n",
    "- Eliminamos la columna event\n",
    "- Renombramos la columna genre y la columna 0"
   ]
  },
  {
   "cell_type": "code",
   "execution_count": 111,
   "metadata": {},
   "outputs": [
    {
     "data": {
      "text/html": [
       "<div>\n",
       "<style scoped>\n",
       "    .dataframe tbody tr th:only-of-type {\n",
       "        vertical-align: middle;\n",
       "    }\n",
       "\n",
       "    .dataframe tbody tr th {\n",
       "        vertical-align: top;\n",
       "    }\n",
       "\n",
       "    .dataframe thead th {\n",
       "        text-align: right;\n",
       "    }\n",
       "</style>\n",
       "<table border=\"1\" class=\"dataframe\">\n",
       "  <thead>\n",
       "    <tr style=\"text-align: right;\">\n",
       "      <th></th>\n",
       "      <th>genre+op</th>\n",
       "      <th>cant</th>\n",
       "    </tr>\n",
       "  </thead>\n",
       "  <tbody>\n",
       "    <tr>\n",
       "      <th>0</th>\n",
       "      <td>Hombre change_description</td>\n",
       "      <td>5</td>\n",
       "    </tr>\n",
       "    <tr>\n",
       "      <th>1</th>\n",
       "      <td>Hombre change_tags</td>\n",
       "      <td>18</td>\n",
       "    </tr>\n",
       "    <tr>\n",
       "      <th>2</th>\n",
       "      <td>Hombre new_image_classified</td>\n",
       "      <td>12</td>\n",
       "    </tr>\n",
       "    <tr>\n",
       "      <th>3</th>\n",
       "      <td>Otre change_tags</td>\n",
       "      <td>1</td>\n",
       "    </tr>\n",
       "  </tbody>\n",
       "</table>\n",
       "</div>"
      ],
      "text/plain": [
       "                      genre+op  cant\n",
       "0    Hombre change_description     5\n",
       "1           Hombre change_tags    18\n",
       "2  Hombre new_image_classified    12\n",
       "3             Otre change_tags     1"
      ]
     },
     "execution_count": 111,
     "metadata": {},
     "output_type": "execute_result"
    }
   ],
   "source": [
    "op_gen = pd.merge(cant_op_nick,dF_profile,on='nick',how='left')[['genre','event']]\n",
    "op_gen['event'] = op_gen.loc[(op_gen['event'] == 'change_tags') | (op_gen['event'] == 'new_image_classified') | (op_gen['event'] == 'change_description'), 'event']\n",
    "op_gen = op_gen.dropna()\n",
    "op_gen = op_gen.groupby(['genre','event']).size().to_frame().reset_index()\n",
    "op_gen['genre'] = op_gen['genre'] + \" \" + op_gen['event'] \n",
    "op_gen = op_gen.drop('event',axis=1)\n",
    "op_gen = op_gen.rename(columns={'genre':'genre+op',0:'cant'})\n",
    "op_gen"
   ]
  },
  {
   "attachments": {},
   "cell_type": "markdown",
   "metadata": {},
   "source": [
    "- Creamos el grafico de torta, le agregamos las etiquetas, transformamos los valores a porcentaje, usamos los colores de la constante COLORS, habilitamos las sombras, y que comienze el grafico en un angilo de 90 grados\n",
    "- Hacemos que sea si o si, un circulo\n",
    "- Le agregamos un titulo"
   ]
  },
  {
   "cell_type": "code",
   "execution_count": 112,
   "metadata": {},
   "outputs": [
    {
     "data": {
      "image/png": "[encoded data removed]",
      "text/plain": [
       "<Figure size 640x480 with 1 Axes>"
      ]
     },
     "metadata": {},
     "output_type": "display_data"
    }
   ],
   "source": [
    "plt.pie(op_gen['cant'], labels=op_gen['genre+op'], autopct='%1.1f%%', colors=COLORS, shadow=True, startangle=90)\n",
    "\n",
    "plt.axis('equal')\n",
    "plt.title(\"Uso por género\")\n",
    "\n",
    "plt.show()"
   ]
  }
 ],
 "metadata": {
  "kernelspec": {
   "display_name": "Python 3",
   "language": "python",
   "name": "python3"
  },
  "language_info": {
   "codemirror_mode": {
    "name": "ipython",
    "version": 3
   },
   "file_extension": ".py",
   "mimetype": "text/x-python",
   "name": "python",
   "nbconvert_exporter": "python",
   "pygments_lexer": "ipython3",
   "version": "3.11.1"
  },
  "orig_nbformat": 4
 },
 "nbformat": 4,
 "nbformat_minor": 2
}
